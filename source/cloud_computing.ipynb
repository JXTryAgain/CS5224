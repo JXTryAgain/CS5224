{
  "nbformat": 4,
  "nbformat_minor": 0,
  "metadata": {
    "colab": {
      "name": "cloud computing.ipynb",
      "provenance": [],
      "collapsed_sections": []
    },
    "kernelspec": {
      "name": "python3",
      "display_name": "Python 3"
    },
    "language_info": {
      "name": "python"
    }
  },
  "cells": [
    {
      "cell_type": "code",
      "metadata": {
        "colab": {
          "base_uri": "https://localhost:8080/"
        },
        "id": "UjpZdVv81fjj",
        "outputId": "d7411278-d50d-404e-b269-681e78cd3c19"
      },
      "source": [
        "from google.colab import drive\n",
        "drive.mount('/content/drive')"
      ],
      "execution_count": null,
      "outputs": [
        {
          "output_type": "stream",
          "text": [
            "Mounted at /content/drive\n"
          ],
          "name": "stdout"
        }
      ]
    },
    {
      "cell_type": "code",
      "metadata": {
        "id": "7796csUs2XUo"
      },
      "source": [
        "csv_path  = '/content/drive/My Drive/merged.csv'"
      ],
      "execution_count": null,
      "outputs": []
    },
    {
      "cell_type": "code",
      "metadata": {
        "id": "QnUIESkI_Gyb"
      },
      "source": [
        "import pandas as pd\n",
        "df =pd.read_csv(csv_path)\n"
      ],
      "execution_count": null,
      "outputs": []
    },
    {
      "cell_type": "code",
      "metadata": {
        "colab": {
          "base_uri": "https://localhost:8080/",
          "height": 669
        },
        "id": "NRayiwwz_ag0",
        "outputId": "ccbb24dc-5b34-45f1-aa9f-5d3f911a35e4"
      },
      "source": [
        "df.head(20)"
      ],
      "execution_count": null,
      "outputs": [
        {
          "output_type": "execute_result",
          "data": {
            "text/html": [
              "<div>\n",
              "<style scoped>\n",
              "    .dataframe tbody tr th:only-of-type {\n",
              "        vertical-align: middle;\n",
              "    }\n",
              "\n",
              "    .dataframe tbody tr th {\n",
              "        vertical-align: top;\n",
              "    }\n",
              "\n",
              "    .dataframe thead th {\n",
              "        text-align: right;\n",
              "    }\n",
              "</style>\n",
              "<table border=\"1\" class=\"dataframe\">\n",
              "  <thead>\n",
              "    <tr style=\"text-align: right;\">\n",
              "      <th></th>\n",
              "      <th>month</th>\n",
              "      <th>town</th>\n",
              "      <th>flat_type</th>\n",
              "      <th>block</th>\n",
              "      <th>street_name</th>\n",
              "      <th>storey_range</th>\n",
              "      <th>floor_area_sqm</th>\n",
              "      <th>flat_model</th>\n",
              "      <th>lease_commence_date</th>\n",
              "      <th>resale_price</th>\n",
              "    </tr>\n",
              "  </thead>\n",
              "  <tbody>\n",
              "    <tr>\n",
              "      <th>0</th>\n",
              "      <td>1990-01</td>\n",
              "      <td>ANG MO KIO</td>\n",
              "      <td>1 ROOM</td>\n",
              "      <td>309</td>\n",
              "      <td>ANG MO KIO AVE 1</td>\n",
              "      <td>10 TO 12</td>\n",
              "      <td>31.0</td>\n",
              "      <td>IMPROVED</td>\n",
              "      <td>1977</td>\n",
              "      <td>9000.0</td>\n",
              "    </tr>\n",
              "    <tr>\n",
              "      <th>1</th>\n",
              "      <td>1990-01</td>\n",
              "      <td>ANG MO KIO</td>\n",
              "      <td>1 ROOM</td>\n",
              "      <td>309</td>\n",
              "      <td>ANG MO KIO AVE 1</td>\n",
              "      <td>04 TO 06</td>\n",
              "      <td>31.0</td>\n",
              "      <td>IMPROVED</td>\n",
              "      <td>1977</td>\n",
              "      <td>6000.0</td>\n",
              "    </tr>\n",
              "    <tr>\n",
              "      <th>2</th>\n",
              "      <td>1990-01</td>\n",
              "      <td>ANG MO KIO</td>\n",
              "      <td>1 ROOM</td>\n",
              "      <td>309</td>\n",
              "      <td>ANG MO KIO AVE 1</td>\n",
              "      <td>10 TO 12</td>\n",
              "      <td>31.0</td>\n",
              "      <td>IMPROVED</td>\n",
              "      <td>1977</td>\n",
              "      <td>8000.0</td>\n",
              "    </tr>\n",
              "    <tr>\n",
              "      <th>3</th>\n",
              "      <td>1990-01</td>\n",
              "      <td>ANG MO KIO</td>\n",
              "      <td>1 ROOM</td>\n",
              "      <td>309</td>\n",
              "      <td>ANG MO KIO AVE 1</td>\n",
              "      <td>07 TO 09</td>\n",
              "      <td>31.0</td>\n",
              "      <td>IMPROVED</td>\n",
              "      <td>1977</td>\n",
              "      <td>6000.0</td>\n",
              "    </tr>\n",
              "    <tr>\n",
              "      <th>4</th>\n",
              "      <td>1990-01</td>\n",
              "      <td>ANG MO KIO</td>\n",
              "      <td>3 ROOM</td>\n",
              "      <td>216</td>\n",
              "      <td>ANG MO KIO AVE 1</td>\n",
              "      <td>04 TO 06</td>\n",
              "      <td>73.0</td>\n",
              "      <td>NEW GENERATION</td>\n",
              "      <td>1976</td>\n",
              "      <td>47200.0</td>\n",
              "    </tr>\n",
              "    <tr>\n",
              "      <th>5</th>\n",
              "      <td>1990-01</td>\n",
              "      <td>ANG MO KIO</td>\n",
              "      <td>3 ROOM</td>\n",
              "      <td>211</td>\n",
              "      <td>ANG MO KIO AVE 3</td>\n",
              "      <td>01 TO 03</td>\n",
              "      <td>67.0</td>\n",
              "      <td>NEW GENERATION</td>\n",
              "      <td>1977</td>\n",
              "      <td>46000.0</td>\n",
              "    </tr>\n",
              "    <tr>\n",
              "      <th>6</th>\n",
              "      <td>1990-01</td>\n",
              "      <td>ANG MO KIO</td>\n",
              "      <td>3 ROOM</td>\n",
              "      <td>202</td>\n",
              "      <td>ANG MO KIO AVE 3</td>\n",
              "      <td>07 TO 09</td>\n",
              "      <td>67.0</td>\n",
              "      <td>NEW GENERATION</td>\n",
              "      <td>1977</td>\n",
              "      <td>42000.0</td>\n",
              "    </tr>\n",
              "    <tr>\n",
              "      <th>7</th>\n",
              "      <td>1990-01</td>\n",
              "      <td>ANG MO KIO</td>\n",
              "      <td>3 ROOM</td>\n",
              "      <td>235</td>\n",
              "      <td>ANG MO KIO AVE 3</td>\n",
              "      <td>10 TO 12</td>\n",
              "      <td>67.0</td>\n",
              "      <td>NEW GENERATION</td>\n",
              "      <td>1977</td>\n",
              "      <td>38000.0</td>\n",
              "    </tr>\n",
              "    <tr>\n",
              "      <th>8</th>\n",
              "      <td>1990-01</td>\n",
              "      <td>ANG MO KIO</td>\n",
              "      <td>3 ROOM</td>\n",
              "      <td>235</td>\n",
              "      <td>ANG MO KIO AVE 3</td>\n",
              "      <td>04 TO 06</td>\n",
              "      <td>67.0</td>\n",
              "      <td>NEW GENERATION</td>\n",
              "      <td>1977</td>\n",
              "      <td>40000.0</td>\n",
              "    </tr>\n",
              "    <tr>\n",
              "      <th>9</th>\n",
              "      <td>1990-01</td>\n",
              "      <td>ANG MO KIO</td>\n",
              "      <td>3 ROOM</td>\n",
              "      <td>232</td>\n",
              "      <td>ANG MO KIO AVE 3</td>\n",
              "      <td>01 TO 03</td>\n",
              "      <td>67.0</td>\n",
              "      <td>NEW GENERATION</td>\n",
              "      <td>1977</td>\n",
              "      <td>47000.0</td>\n",
              "    </tr>\n",
              "    <tr>\n",
              "      <th>10</th>\n",
              "      <td>1990-01</td>\n",
              "      <td>ANG MO KIO</td>\n",
              "      <td>3 ROOM</td>\n",
              "      <td>232</td>\n",
              "      <td>ANG MO KIO AVE 3</td>\n",
              "      <td>07 TO 09</td>\n",
              "      <td>67.0</td>\n",
              "      <td>NEW GENERATION</td>\n",
              "      <td>1977</td>\n",
              "      <td>43000.0</td>\n",
              "    </tr>\n",
              "    <tr>\n",
              "      <th>11</th>\n",
              "      <td>1990-01</td>\n",
              "      <td>ANG MO KIO</td>\n",
              "      <td>3 ROOM</td>\n",
              "      <td>308</td>\n",
              "      <td>ANG MO KIO AVE 1</td>\n",
              "      <td>07 TO 09</td>\n",
              "      <td>82.0</td>\n",
              "      <td>NEW GENERATION</td>\n",
              "      <td>1976</td>\n",
              "      <td>59000.0</td>\n",
              "    </tr>\n",
              "    <tr>\n",
              "      <th>12</th>\n",
              "      <td>1990-01</td>\n",
              "      <td>ANG MO KIO</td>\n",
              "      <td>3 ROOM</td>\n",
              "      <td>308</td>\n",
              "      <td>ANG MO KIO AVE 1</td>\n",
              "      <td>10 TO 12</td>\n",
              "      <td>67.0</td>\n",
              "      <td>NEW GENERATION</td>\n",
              "      <td>1976</td>\n",
              "      <td>47200.0</td>\n",
              "    </tr>\n",
              "    <tr>\n",
              "      <th>13</th>\n",
              "      <td>1990-01</td>\n",
              "      <td>ANG MO KIO</td>\n",
              "      <td>3 ROOM</td>\n",
              "      <td>220</td>\n",
              "      <td>ANG MO KIO AVE 1</td>\n",
              "      <td>07 TO 09</td>\n",
              "      <td>67.0</td>\n",
              "      <td>NEW GENERATION</td>\n",
              "      <td>1977</td>\n",
              "      <td>35000.0</td>\n",
              "    </tr>\n",
              "    <tr>\n",
              "      <th>14</th>\n",
              "      <td>1990-01</td>\n",
              "      <td>ANG MO KIO</td>\n",
              "      <td>3 ROOM</td>\n",
              "      <td>219</td>\n",
              "      <td>ANG MO KIO AVE 1</td>\n",
              "      <td>07 TO 09</td>\n",
              "      <td>82.0</td>\n",
              "      <td>NEW GENERATION</td>\n",
              "      <td>1977</td>\n",
              "      <td>52000.0</td>\n",
              "    </tr>\n",
              "    <tr>\n",
              "      <th>15</th>\n",
              "      <td>1990-01</td>\n",
              "      <td>ANG MO KIO</td>\n",
              "      <td>3 ROOM</td>\n",
              "      <td>247</td>\n",
              "      <td>ANG MO KIO AVE 3</td>\n",
              "      <td>04 TO 06</td>\n",
              "      <td>82.0</td>\n",
              "      <td>NEW GENERATION</td>\n",
              "      <td>1978</td>\n",
              "      <td>56900.0</td>\n",
              "    </tr>\n",
              "    <tr>\n",
              "      <th>16</th>\n",
              "      <td>1990-01</td>\n",
              "      <td>ANG MO KIO</td>\n",
              "      <td>3 ROOM</td>\n",
              "      <td>320</td>\n",
              "      <td>ANG MO KIO AVE 1</td>\n",
              "      <td>07 TO 09</td>\n",
              "      <td>73.0</td>\n",
              "      <td>NEW GENERATION</td>\n",
              "      <td>1977</td>\n",
              "      <td>40000.0</td>\n",
              "    </tr>\n",
              "    <tr>\n",
              "      <th>17</th>\n",
              "      <td>1990-01</td>\n",
              "      <td>ANG MO KIO</td>\n",
              "      <td>3 ROOM</td>\n",
              "      <td>252</td>\n",
              "      <td>ANG MO KIO AVE 4</td>\n",
              "      <td>07 TO 09</td>\n",
              "      <td>67.0</td>\n",
              "      <td>NEW GENERATION</td>\n",
              "      <td>1977</td>\n",
              "      <td>40000.0</td>\n",
              "    </tr>\n",
              "    <tr>\n",
              "      <th>18</th>\n",
              "      <td>1990-01</td>\n",
              "      <td>ANG MO KIO</td>\n",
              "      <td>3 ROOM</td>\n",
              "      <td>223</td>\n",
              "      <td>ANG MO KIO AVE 1</td>\n",
              "      <td>04 TO 06</td>\n",
              "      <td>67.0</td>\n",
              "      <td>NEW GENERATION</td>\n",
              "      <td>1978</td>\n",
              "      <td>47200.0</td>\n",
              "    </tr>\n",
              "    <tr>\n",
              "      <th>19</th>\n",
              "      <td>1990-01</td>\n",
              "      <td>ANG MO KIO</td>\n",
              "      <td>3 ROOM</td>\n",
              "      <td>223</td>\n",
              "      <td>ANG MO KIO AVE 1</td>\n",
              "      <td>10 TO 12</td>\n",
              "      <td>67.0</td>\n",
              "      <td>NEW GENERATION</td>\n",
              "      <td>1978</td>\n",
              "      <td>37000.0</td>\n",
              "    </tr>\n",
              "  </tbody>\n",
              "</table>\n",
              "</div>"
            ],
            "text/plain": [
              "      month        town  ... lease_commence_date resale_price\n",
              "0   1990-01  ANG MO KIO  ...                1977       9000.0\n",
              "1   1990-01  ANG MO KIO  ...                1977       6000.0\n",
              "2   1990-01  ANG MO KIO  ...                1977       8000.0\n",
              "3   1990-01  ANG MO KIO  ...                1977       6000.0\n",
              "4   1990-01  ANG MO KIO  ...                1976      47200.0\n",
              "5   1990-01  ANG MO KIO  ...                1977      46000.0\n",
              "6   1990-01  ANG MO KIO  ...                1977      42000.0\n",
              "7   1990-01  ANG MO KIO  ...                1977      38000.0\n",
              "8   1990-01  ANG MO KIO  ...                1977      40000.0\n",
              "9   1990-01  ANG MO KIO  ...                1977      47000.0\n",
              "10  1990-01  ANG MO KIO  ...                1977      43000.0\n",
              "11  1990-01  ANG MO KIO  ...                1976      59000.0\n",
              "12  1990-01  ANG MO KIO  ...                1976      47200.0\n",
              "13  1990-01  ANG MO KIO  ...                1977      35000.0\n",
              "14  1990-01  ANG MO KIO  ...                1977      52000.0\n",
              "15  1990-01  ANG MO KIO  ...                1978      56900.0\n",
              "16  1990-01  ANG MO KIO  ...                1977      40000.0\n",
              "17  1990-01  ANG MO KIO  ...                1977      40000.0\n",
              "18  1990-01  ANG MO KIO  ...                1978      47200.0\n",
              "19  1990-01  ANG MO KIO  ...                1978      37000.0\n",
              "\n",
              "[20 rows x 10 columns]"
            ]
          },
          "metadata": {
            "tags": []
          },
          "execution_count": 6
        }
      ]
    },
    {
      "cell_type": "code",
      "metadata": {
        "colab": {
          "base_uri": "https://localhost:8080/",
          "height": 625
        },
        "id": "W6duF3prezWD",
        "outputId": "9cb452bc-4f2a-4882-febb-2d37cf84558c"
      },
      "source": [
        "import matplotlib.pyplot as plt\n",
        "import seaborn as sns\n",
        "plt.figure(figsize=(14, 10))\n",
        "sns.heatmap(df[[\"resale_price\", \"lease_commence_date\", \"floor_area_sqm\", \"storey_range\"]].corr(), annot=True)\n",
        "plt.title(\"Heatmap with resale_price, lease_commence_date, floor_area_sqm, storey_range\")"
      ],
      "execution_count": null,
      "outputs": [
        {
          "output_type": "execute_result",
          "data": {
            "text/plain": [
              "Text(0.5, 1.0, 'Heatmap with resale_price, lease_commence_date, floor_area_sqm, storey_range')"
            ]
          },
          "metadata": {
            "tags": []
          },
          "execution_count": 11
        },
        {
          "output_type": "display_data",
          "data": {
            "image/png": "[encoded data removed]",
            "text/plain": [
              "<Figure size 1008x720 with 2 Axes>"
            ]
          },
          "metadata": {
            "tags": [],
            "needs_background": "light"
          }
        }
      ]
    },
    {
      "cell_type": "code",
      "metadata": {
        "colab": {
          "base_uri": "https://localhost:8080/"
        },
        "id": "MzvjKgEf_fNe",
        "outputId": "bafb14e9-cac8-4b88-c578-6b9fbfeab3e5"
      },
      "source": [
        "df.info()"
      ],
      "execution_count": null,
      "outputs": [
        {
          "output_type": "stream",
          "text": [
            "<class 'pandas.core.frame.DataFrame'>\n",
            "RangeIndex: 840128 entries, 0 to 840127\n",
            "Data columns (total 10 columns):\n",
            " #   Column               Non-Null Count   Dtype  \n",
            "---  ------               --------------   -----  \n",
            " 0   month                840128 non-null  object \n",
            " 1   town                 840128 non-null  object \n",
            " 2   flat_type            840128 non-null  object \n",
            " 3   block                840128 non-null  object \n",
            " 4   street_name          840128 non-null  object \n",
            " 5   storey_range         840128 non-null  object \n",
            " 6   floor_area_sqm       840128 non-null  float64\n",
            " 7   flat_model           840128 non-null  object \n",
            " 8   lease_commence_date  840128 non-null  int64  \n",
            " 9   resale_price         840128 non-null  float64\n",
            "dtypes: float64(2), int64(1), object(7)\n",
            "memory usage: 64.1+ MB\n"
          ],
          "name": "stdout"
        }
      ]
    },
    {
      "cell_type": "code",
      "metadata": {
        "colab": {
          "base_uri": "https://localhost:8080/"
        },
        "id": "4vO1V4nz_s-_",
        "outputId": "47e9d985-b5cf-4665-f60a-df700bf87681"
      },
      "source": [
        "df.isna().sum()"
      ],
      "execution_count": null,
      "outputs": [
        {
          "output_type": "execute_result",
          "data": {
            "text/plain": [
              "month                  0\n",
              "town                   0\n",
              "flat_type              0\n",
              "block                  0\n",
              "street_name            0\n",
              "storey_range           0\n",
              "floor_area_sqm         0\n",
              "flat_model             0\n",
              "lease_commence_date    0\n",
              "resale_price           0\n",
              "dtype: int64"
            ]
          },
          "metadata": {
            "tags": []
          },
          "execution_count": 13
        }
      ]
    },
    {
      "cell_type": "code",
      "metadata": {
        "colab": {
          "base_uri": "https://localhost:8080/"
        },
        "id": "q2JHxab8_hxm",
        "outputId": "6079d3e0-b5b0-440f-f463-6d80df86ff39"
      },
      "source": [
        "df['storey_range'].value_counts()"
      ],
      "execution_count": null,
      "outputs": [
        {
          "output_type": "execute_result",
          "data": {
            "text/plain": [
              "04 TO 06    212828\n",
              "07 TO 09    191903\n",
              "01 TO 03    171381\n",
              "10 TO 12    162655\n",
              "13 TO 15     53516\n",
              "16 TO 18     20096\n",
              "19 TO 21      9709\n",
              "22 TO 24      6274\n",
              "01 TO 05      2700\n",
              "25 TO 27      2665\n",
              "06 TO 10      2474\n",
              "11 TO 15      1259\n",
              "28 TO 30      1124\n",
              "31 TO 33       319\n",
              "34 TO 36       308\n",
              "37 TO 39       301\n",
              "16 TO 20       265\n",
              "40 TO 42       147\n",
              "21 TO 25        92\n",
              "26 TO 30        39\n",
              "46 TO 48        28\n",
              "43 TO 45        26\n",
              "49 TO 51        10\n",
              "36 TO 40         7\n",
              "31 TO 35         2\n",
              "Name: storey_range, dtype: int64"
            ]
          },
          "metadata": {
            "tags": []
          },
          "execution_count": 14
        }
      ]
    },
    {
      "cell_type": "code",
      "metadata": {
        "id": "3LG3PeThA71i"
      },
      "source": [
        "df = df.drop(df[df.storey_range =='storey_range'].index)\n",
        "df['storey'] = df.apply (lambda row: (int(row['storey_range'][0:2]) + int(row['storey_range'][-2:]))/2, axis=1)"
      ],
      "execution_count": null,
      "outputs": []
    },
    {
      "cell_type": "code",
      "metadata": {
        "colab": {
          "base_uri": "https://localhost:8080/",
          "height": 204
        },
        "id": "OOjmPVt7DsPJ",
        "outputId": "636d90d3-60d1-4280-ee42-c1399e5721af"
      },
      "source": [
        "df.head()"
      ],
      "execution_count": null,
      "outputs": [
        {
          "output_type": "execute_result",
          "data": {
            "text/html": [
              "<div>\n",
              "<style scoped>\n",
              "    .dataframe tbody tr th:only-of-type {\n",
              "        vertical-align: middle;\n",
              "    }\n",
              "\n",
              "    .dataframe tbody tr th {\n",
              "        vertical-align: top;\n",
              "    }\n",
              "\n",
              "    .dataframe thead th {\n",
              "        text-align: right;\n",
              "    }\n",
              "</style>\n",
              "<table border=\"1\" class=\"dataframe\">\n",
              "  <thead>\n",
              "    <tr style=\"text-align: right;\">\n",
              "      <th></th>\n",
              "      <th>month</th>\n",
              "      <th>town</th>\n",
              "      <th>flat_type</th>\n",
              "      <th>block</th>\n",
              "      <th>street_name</th>\n",
              "      <th>storey_range</th>\n",
              "      <th>floor_area_sqm</th>\n",
              "      <th>flat_model</th>\n",
              "      <th>lease_commence_date</th>\n",
              "      <th>resale_price</th>\n",
              "      <th>storey</th>\n",
              "    </tr>\n",
              "  </thead>\n",
              "  <tbody>\n",
              "    <tr>\n",
              "      <th>0</th>\n",
              "      <td>1990-01</td>\n",
              "      <td>ANG MO KIO</td>\n",
              "      <td>1 ROOM</td>\n",
              "      <td>309</td>\n",
              "      <td>ANG MO KIO AVE 1</td>\n",
              "      <td>10 TO 12</td>\n",
              "      <td>31.0</td>\n",
              "      <td>IMPROVED</td>\n",
              "      <td>1977</td>\n",
              "      <td>9000.0</td>\n",
              "      <td>11.0</td>\n",
              "    </tr>\n",
              "    <tr>\n",
              "      <th>1</th>\n",
              "      <td>1990-01</td>\n",
              "      <td>ANG MO KIO</td>\n",
              "      <td>1 ROOM</td>\n",
              "      <td>309</td>\n",
              "      <td>ANG MO KIO AVE 1</td>\n",
              "      <td>04 TO 06</td>\n",
              "      <td>31.0</td>\n",
              "      <td>IMPROVED</td>\n",
              "      <td>1977</td>\n",
              "      <td>6000.0</td>\n",
              "      <td>5.0</td>\n",
              "    </tr>\n",
              "    <tr>\n",
              "      <th>2</th>\n",
              "      <td>1990-01</td>\n",
              "      <td>ANG MO KIO</td>\n",
              "      <td>1 ROOM</td>\n",
              "      <td>309</td>\n",
              "      <td>ANG MO KIO AVE 1</td>\n",
              "      <td>10 TO 12</td>\n",
              "      <td>31.0</td>\n",
              "      <td>IMPROVED</td>\n",
              "      <td>1977</td>\n",
              "      <td>8000.0</td>\n",
              "      <td>11.0</td>\n",
              "    </tr>\n",
              "    <tr>\n",
              "      <th>3</th>\n",
              "      <td>1990-01</td>\n",
              "      <td>ANG MO KIO</td>\n",
              "      <td>1 ROOM</td>\n",
              "      <td>309</td>\n",
              "      <td>ANG MO KIO AVE 1</td>\n",
              "      <td>07 TO 09</td>\n",
              "      <td>31.0</td>\n",
              "      <td>IMPROVED</td>\n",
              "      <td>1977</td>\n",
              "      <td>6000.0</td>\n",
              "      <td>8.0</td>\n",
              "    </tr>\n",
              "    <tr>\n",
              "      <th>4</th>\n",
              "      <td>1990-01</td>\n",
              "      <td>ANG MO KIO</td>\n",
              "      <td>3 ROOM</td>\n",
              "      <td>216</td>\n",
              "      <td>ANG MO KIO AVE 1</td>\n",
              "      <td>04 TO 06</td>\n",
              "      <td>73.0</td>\n",
              "      <td>NEW GENERATION</td>\n",
              "      <td>1976</td>\n",
              "      <td>47200.0</td>\n",
              "      <td>5.0</td>\n",
              "    </tr>\n",
              "  </tbody>\n",
              "</table>\n",
              "</div>"
            ],
            "text/plain": [
              "     month        town flat_type  ... lease_commence_date resale_price storey\n",
              "0  1990-01  ANG MO KIO    1 ROOM  ...                1977       9000.0   11.0\n",
              "1  1990-01  ANG MO KIO    1 ROOM  ...                1977       6000.0    5.0\n",
              "2  1990-01  ANG MO KIO    1 ROOM  ...                1977       8000.0   11.0\n",
              "3  1990-01  ANG MO KIO    1 ROOM  ...                1977       6000.0    8.0\n",
              "4  1990-01  ANG MO KIO    3 ROOM  ...                1976      47200.0    5.0\n",
              "\n",
              "[5 rows x 11 columns]"
            ]
          },
          "metadata": {
            "tags": []
          },
          "execution_count": 16
        }
      ]
    },
    {
      "cell_type": "code",
      "metadata": {
        "colab": {
          "base_uri": "https://localhost:8080/"
        },
        "id": "f5cnilHTGJ7q",
        "outputId": "adbedda3-576a-4603-85a9-1109aec5ef3f"
      },
      "source": [
        "df['flat_type'].value_counts()"
      ],
      "execution_count": null,
      "outputs": [
        {
          "output_type": "execute_result",
          "data": {
            "text/plain": [
              "4 ROOM              314909\n",
              "3 ROOM              275514\n",
              "5 ROOM              174077\n",
              "EXECUTIVE            63789\n",
              "2 ROOM               10049\n",
              "1 ROOM                1279\n",
              "MULTI GENERATION       279\n",
              "MULTI-GENERATION       232\n",
              "Name: flat_type, dtype: int64"
            ]
          },
          "metadata": {
            "tags": []
          },
          "execution_count": 17
        }
      ]
    },
    {
      "cell_type": "code",
      "metadata": {
        "id": "xHtaXHYjGQdh"
      },
      "source": [
        "def get_type(s):\n",
        "  if s[0]>='1' and s[0]<='5':\n",
        "    return int(s[0])\n",
        "  elif s=='EXECUTIVE':\n",
        "    return 6\n",
        "  else:\n",
        "    return 7\n",
        "  "
      ],
      "execution_count": null,
      "outputs": []
    },
    {
      "cell_type": "code",
      "metadata": {
        "id": "OUkJrcqaJ-WG"
      },
      "source": [
        "df['type'] = df.apply (lambda row: get_type(row['flat_type']), axis=1)"
      ],
      "execution_count": null,
      "outputs": []
    },
    {
      "cell_type": "code",
      "metadata": {
        "colab": {
          "base_uri": "https://localhost:8080/",
          "height": 204
        },
        "id": "CxaV5T_OKLQg",
        "outputId": "c2ee269c-0eac-4c69-9a2a-c2be2bb833c1"
      },
      "source": [
        "df.head()"
      ],
      "execution_count": null,
      "outputs": [
        {
          "output_type": "execute_result",
          "data": {
            "text/html": [
              "<div>\n",
              "<style scoped>\n",
              "    .dataframe tbody tr th:only-of-type {\n",
              "        vertical-align: middle;\n",
              "    }\n",
              "\n",
              "    .dataframe tbody tr th {\n",
              "        vertical-align: top;\n",
              "    }\n",
              "\n",
              "    .dataframe thead th {\n",
              "        text-align: right;\n",
              "    }\n",
              "</style>\n",
              "<table border=\"1\" class=\"dataframe\">\n",
              "  <thead>\n",
              "    <tr style=\"text-align: right;\">\n",
              "      <th></th>\n",
              "      <th>month</th>\n",
              "      <th>town</th>\n",
              "      <th>flat_type</th>\n",
              "      <th>block</th>\n",
              "      <th>street_name</th>\n",
              "      <th>storey_range</th>\n",
              "      <th>floor_area_sqm</th>\n",
              "      <th>flat_model</th>\n",
              "      <th>lease_commence_date</th>\n",
              "      <th>resale_price</th>\n",
              "      <th>storey</th>\n",
              "      <th>type</th>\n",
              "    </tr>\n",
              "  </thead>\n",
              "  <tbody>\n",
              "    <tr>\n",
              "      <th>0</th>\n",
              "      <td>1990-01</td>\n",
              "      <td>ANG MO KIO</td>\n",
              "      <td>1 ROOM</td>\n",
              "      <td>309</td>\n",
              "      <td>ANG MO KIO AVE 1</td>\n",
              "      <td>10 TO 12</td>\n",
              "      <td>31.0</td>\n",
              "      <td>IMPROVED</td>\n",
              "      <td>1977</td>\n",
              "      <td>9000.0</td>\n",
              "      <td>11.0</td>\n",
              "      <td>1</td>\n",
              "    </tr>\n",
              "    <tr>\n",
              "      <th>1</th>\n",
              "      <td>1990-01</td>\n",
              "      <td>ANG MO KIO</td>\n",
              "      <td>1 ROOM</td>\n",
              "      <td>309</td>\n",
              "      <td>ANG MO KIO AVE 1</td>\n",
              "      <td>04 TO 06</td>\n",
              "      <td>31.0</td>\n",
              "      <td>IMPROVED</td>\n",
              "      <td>1977</td>\n",
              "      <td>6000.0</td>\n",
              "      <td>5.0</td>\n",
              "      <td>1</td>\n",
              "    </tr>\n",
              "    <tr>\n",
              "      <th>2</th>\n",
              "      <td>1990-01</td>\n",
              "      <td>ANG MO KIO</td>\n",
              "      <td>1 ROOM</td>\n",
              "      <td>309</td>\n",
              "      <td>ANG MO KIO AVE 1</td>\n",
              "      <td>10 TO 12</td>\n",
              "      <td>31.0</td>\n",
              "      <td>IMPROVED</td>\n",
              "      <td>1977</td>\n",
              "      <td>8000.0</td>\n",
              "      <td>11.0</td>\n",
              "      <td>1</td>\n",
              "    </tr>\n",
              "    <tr>\n",
              "      <th>3</th>\n",
              "      <td>1990-01</td>\n",
              "      <td>ANG MO KIO</td>\n",
              "      <td>1 ROOM</td>\n",
              "      <td>309</td>\n",
              "      <td>ANG MO KIO AVE 1</td>\n",
              "      <td>07 TO 09</td>\n",
              "      <td>31.0</td>\n",
              "      <td>IMPROVED</td>\n",
              "      <td>1977</td>\n",
              "      <td>6000.0</td>\n",
              "      <td>8.0</td>\n",
              "      <td>1</td>\n",
              "    </tr>\n",
              "    <tr>\n",
              "      <th>4</th>\n",
              "      <td>1990-01</td>\n",
              "      <td>ANG MO KIO</td>\n",
              "      <td>3 ROOM</td>\n",
              "      <td>216</td>\n",
              "      <td>ANG MO KIO AVE 1</td>\n",
              "      <td>04 TO 06</td>\n",
              "      <td>73.0</td>\n",
              "      <td>NEW GENERATION</td>\n",
              "      <td>1976</td>\n",
              "      <td>47200.0</td>\n",
              "      <td>5.0</td>\n",
              "      <td>3</td>\n",
              "    </tr>\n",
              "  </tbody>\n",
              "</table>\n",
              "</div>"
            ],
            "text/plain": [
              "     month        town flat_type  ... resale_price storey type\n",
              "0  1990-01  ANG MO KIO    1 ROOM  ...       9000.0   11.0    1\n",
              "1  1990-01  ANG MO KIO    1 ROOM  ...       6000.0    5.0    1\n",
              "2  1990-01  ANG MO KIO    1 ROOM  ...       8000.0   11.0    1\n",
              "3  1990-01  ANG MO KIO    1 ROOM  ...       6000.0    8.0    1\n",
              "4  1990-01  ANG MO KIO    3 ROOM  ...      47200.0    5.0    3\n",
              "\n",
              "[5 rows x 12 columns]"
            ]
          },
          "metadata": {
            "tags": []
          },
          "execution_count": 20
        }
      ]
    },
    {
      "cell_type": "code",
      "metadata": {
        "colab": {
          "base_uri": "https://localhost:8080/"
        },
        "id": "KPGQbeUaKgcg",
        "outputId": "1f9f2670-d37e-46d6-c0ca-8b1881b80009"
      },
      "source": [
        "df['town'].value_counts()"
      ],
      "execution_count": null,
      "outputs": [
        {
          "output_type": "execute_result",
          "data": {
            "text/plain": [
              "TAMPINES           74115\n",
              "YISHUN             64047\n",
              "BEDOK              62143\n",
              "JURONG WEST        61457\n",
              "WOODLANDS          59405\n",
              "ANG MO KIO         48785\n",
              "HOUGANG            46157\n",
              "BUKIT BATOK        40788\n",
              "CHOA CHU KANG      33968\n",
              "BUKIT MERAH        31033\n",
              "PASIR RIS          30753\n",
              "TOA PAYOH          28951\n",
              "QUEENSTOWN         26374\n",
              "CLEMENTI           26116\n",
              "GEYLANG            26032\n",
              "SENGKANG           25216\n",
              "BUKIT PANJANG      24835\n",
              "KALLANG/WHAMPOA    24417\n",
              "JURONG EAST        23156\n",
              "SERANGOON          21391\n",
              "BISHAN             19845\n",
              "PUNGGOL            13589\n",
              "SEMBAWANG          11222\n",
              "MARINE PARADE       7480\n",
              "CENTRAL AREA        6466\n",
              "BUKIT TIMAH         2323\n",
              "LIM CHU KANG          64\n",
              "Name: town, dtype: int64"
            ]
          },
          "metadata": {
            "tags": []
          },
          "execution_count": 21
        }
      ]
    },
    {
      "cell_type": "code",
      "metadata": {
        "colab": {
          "base_uri": "https://localhost:8080/"
        },
        "id": "wndx6KQ-K_Qn",
        "outputId": "b228eaf1-01bd-4c16-9db4-b78c8ca163aa"
      },
      "source": [
        "df.info()"
      ],
      "execution_count": null,
      "outputs": [
        {
          "output_type": "stream",
          "text": [
            "<class 'pandas.core.frame.DataFrame'>\n",
            "Int64Index: 840128 entries, 0 to 840127\n",
            "Data columns (total 12 columns):\n",
            " #   Column               Non-Null Count   Dtype  \n",
            "---  ------               --------------   -----  \n",
            " 0   month                840128 non-null  object \n",
            " 1   town                 840128 non-null  object \n",
            " 2   flat_type            840128 non-null  object \n",
            " 3   block                840128 non-null  object \n",
            " 4   street_name          840128 non-null  object \n",
            " 5   storey_range         840128 non-null  object \n",
            " 6   floor_area_sqm       840128 non-null  float64\n",
            " 7   flat_model           840128 non-null  object \n",
            " 8   lease_commence_date  840128 non-null  int64  \n",
            " 9   resale_price         840128 non-null  float64\n",
            " 10  storey               840128 non-null  float64\n",
            " 11  type                 840128 non-null  int64  \n",
            "dtypes: float64(3), int64(2), object(7)\n",
            "memory usage: 83.3+ MB\n"
          ],
          "name": "stdout"
        }
      ]
    },
    {
      "cell_type": "code",
      "metadata": {
        "id": "7CjnLmlzju5o"
      },
      "source": [
        "df = df.drop(['block', 'street_name','storey_range','flat_type','flat_model'], axis =1)\n",
        "# df = df.drop(['flat_model'], axis =1)"
      ],
      "execution_count": null,
      "outputs": []
    },
    {
      "cell_type": "code",
      "metadata": {
        "colab": {
          "base_uri": "https://localhost:8080/",
          "height": 204
        },
        "id": "guUUq6Xujf7o",
        "outputId": "16987404-7076-43cf-97e0-420385c9fb8a"
      },
      "source": [
        "df.head()"
      ],
      "execution_count": null,
      "outputs": [
        {
          "output_type": "execute_result",
          "data": {
            "text/html": [
              "<div>\n",
              "<style scoped>\n",
              "    .dataframe tbody tr th:only-of-type {\n",
              "        vertical-align: middle;\n",
              "    }\n",
              "\n",
              "    .dataframe tbody tr th {\n",
              "        vertical-align: top;\n",
              "    }\n",
              "\n",
              "    .dataframe thead th {\n",
              "        text-align: right;\n",
              "    }\n",
              "</style>\n",
              "<table border=\"1\" class=\"dataframe\">\n",
              "  <thead>\n",
              "    <tr style=\"text-align: right;\">\n",
              "      <th></th>\n",
              "      <th>month</th>\n",
              "      <th>town</th>\n",
              "      <th>floor_area_sqm</th>\n",
              "      <th>lease_commence_date</th>\n",
              "      <th>resale_price</th>\n",
              "      <th>storey</th>\n",
              "      <th>type</th>\n",
              "    </tr>\n",
              "  </thead>\n",
              "  <tbody>\n",
              "    <tr>\n",
              "      <th>0</th>\n",
              "      <td>1990-01</td>\n",
              "      <td>ANG MO KIO</td>\n",
              "      <td>31.0</td>\n",
              "      <td>1977</td>\n",
              "      <td>9000.0</td>\n",
              "      <td>11.0</td>\n",
              "      <td>1</td>\n",
              "    </tr>\n",
              "    <tr>\n",
              "      <th>1</th>\n",
              "      <td>1990-01</td>\n",
              "      <td>ANG MO KIO</td>\n",
              "      <td>31.0</td>\n",
              "      <td>1977</td>\n",
              "      <td>6000.0</td>\n",
              "      <td>5.0</td>\n",
              "      <td>1</td>\n",
              "    </tr>\n",
              "    <tr>\n",
              "      <th>2</th>\n",
              "      <td>1990-01</td>\n",
              "      <td>ANG MO KIO</td>\n",
              "      <td>31.0</td>\n",
              "      <td>1977</td>\n",
              "      <td>8000.0</td>\n",
              "      <td>11.0</td>\n",
              "      <td>1</td>\n",
              "    </tr>\n",
              "    <tr>\n",
              "      <th>3</th>\n",
              "      <td>1990-01</td>\n",
              "      <td>ANG MO KIO</td>\n",
              "      <td>31.0</td>\n",
              "      <td>1977</td>\n",
              "      <td>6000.0</td>\n",
              "      <td>8.0</td>\n",
              "      <td>1</td>\n",
              "    </tr>\n",
              "    <tr>\n",
              "      <th>4</th>\n",
              "      <td>1990-01</td>\n",
              "      <td>ANG MO KIO</td>\n",
              "      <td>73.0</td>\n",
              "      <td>1976</td>\n",
              "      <td>47200.0</td>\n",
              "      <td>5.0</td>\n",
              "      <td>3</td>\n",
              "    </tr>\n",
              "  </tbody>\n",
              "</table>\n",
              "</div>"
            ],
            "text/plain": [
              "     month        town  floor_area_sqm  ...  resale_price  storey  type\n",
              "0  1990-01  ANG MO KIO            31.0  ...        9000.0    11.0     1\n",
              "1  1990-01  ANG MO KIO            31.0  ...        6000.0     5.0     1\n",
              "2  1990-01  ANG MO KIO            31.0  ...        8000.0    11.0     1\n",
              "3  1990-01  ANG MO KIO            31.0  ...        6000.0     8.0     1\n",
              "4  1990-01  ANG MO KIO            73.0  ...       47200.0     5.0     3\n",
              "\n",
              "[5 rows x 7 columns]"
            ]
          },
          "metadata": {
            "tags": []
          },
          "execution_count": 24
        }
      ]
    },
    {
      "cell_type": "code",
      "metadata": {
        "id": "VPxvd71YYAvu"
      },
      "source": [
        "import types\n",
        "import numpy as np\n",
        "def to_numeric(s):\n",
        "  try:\n",
        "    return int(s)\n",
        "  except (ValueError): \n",
        "    return np.nan\n",
        "\n"
      ],
      "execution_count": null,
      "outputs": []
    },
    {
      "cell_type": "code",
      "metadata": {
        "colab": {
          "base_uri": "https://localhost:8080/"
        },
        "id": "I7ZuPclarDxq",
        "outputId": "c9016d6b-630b-4f25-d513-8c6d1a1ca14d"
      },
      "source": [
        "df.info()"
      ],
      "execution_count": null,
      "outputs": [
        {
          "output_type": "stream",
          "text": [
            "<class 'pandas.core.frame.DataFrame'>\n",
            "Int64Index: 840128 entries, 0 to 840127\n",
            "Data columns (total 7 columns):\n",
            " #   Column               Non-Null Count   Dtype  \n",
            "---  ------               --------------   -----  \n",
            " 0   month                840128 non-null  object \n",
            " 1   town                 840128 non-null  object \n",
            " 2   floor_area_sqm       840128 non-null  float64\n",
            " 3   lease_commence_date  840128 non-null  int64  \n",
            " 4   resale_price         840128 non-null  float64\n",
            " 5   storey               840128 non-null  float64\n",
            " 6   type                 840128 non-null  int64  \n",
            "dtypes: float64(3), int64(2), object(2)\n",
            "memory usage: 51.3+ MB\n"
          ],
          "name": "stdout"
        }
      ]
    },
    {
      "cell_type": "code",
      "metadata": {
        "colab": {
          "base_uri": "https://localhost:8080/",
          "height": 204
        },
        "id": "I95IFgSYtCva",
        "outputId": "16db8a97-b5ac-4faa-801b-831237fefa95"
      },
      "source": [
        "df.head()"
      ],
      "execution_count": null,
      "outputs": [
        {
          "output_type": "execute_result",
          "data": {
            "text/html": [
              "<div>\n",
              "<style scoped>\n",
              "    .dataframe tbody tr th:only-of-type {\n",
              "        vertical-align: middle;\n",
              "    }\n",
              "\n",
              "    .dataframe tbody tr th {\n",
              "        vertical-align: top;\n",
              "    }\n",
              "\n",
              "    .dataframe thead th {\n",
              "        text-align: right;\n",
              "    }\n",
              "</style>\n",
              "<table border=\"1\" class=\"dataframe\">\n",
              "  <thead>\n",
              "    <tr style=\"text-align: right;\">\n",
              "      <th></th>\n",
              "      <th>month</th>\n",
              "      <th>town</th>\n",
              "      <th>floor_area_sqm</th>\n",
              "      <th>lease_commence_date</th>\n",
              "      <th>resale_price</th>\n",
              "      <th>storey</th>\n",
              "      <th>type</th>\n",
              "    </tr>\n",
              "  </thead>\n",
              "  <tbody>\n",
              "    <tr>\n",
              "      <th>0</th>\n",
              "      <td>1990-01</td>\n",
              "      <td>ANG MO KIO</td>\n",
              "      <td>31.0</td>\n",
              "      <td>1977</td>\n",
              "      <td>9000.0</td>\n",
              "      <td>11.0</td>\n",
              "      <td>1</td>\n",
              "    </tr>\n",
              "    <tr>\n",
              "      <th>1</th>\n",
              "      <td>1990-01</td>\n",
              "      <td>ANG MO KIO</td>\n",
              "      <td>31.0</td>\n",
              "      <td>1977</td>\n",
              "      <td>6000.0</td>\n",
              "      <td>5.0</td>\n",
              "      <td>1</td>\n",
              "    </tr>\n",
              "    <tr>\n",
              "      <th>2</th>\n",
              "      <td>1990-01</td>\n",
              "      <td>ANG MO KIO</td>\n",
              "      <td>31.0</td>\n",
              "      <td>1977</td>\n",
              "      <td>8000.0</td>\n",
              "      <td>11.0</td>\n",
              "      <td>1</td>\n",
              "    </tr>\n",
              "    <tr>\n",
              "      <th>3</th>\n",
              "      <td>1990-01</td>\n",
              "      <td>ANG MO KIO</td>\n",
              "      <td>31.0</td>\n",
              "      <td>1977</td>\n",
              "      <td>6000.0</td>\n",
              "      <td>8.0</td>\n",
              "      <td>1</td>\n",
              "    </tr>\n",
              "    <tr>\n",
              "      <th>4</th>\n",
              "      <td>1990-01</td>\n",
              "      <td>ANG MO KIO</td>\n",
              "      <td>73.0</td>\n",
              "      <td>1976</td>\n",
              "      <td>47200.0</td>\n",
              "      <td>5.0</td>\n",
              "      <td>3</td>\n",
              "    </tr>\n",
              "  </tbody>\n",
              "</table>\n",
              "</div>"
            ],
            "text/plain": [
              "     month        town  floor_area_sqm  ...  resale_price  storey  type\n",
              "0  1990-01  ANG MO KIO            31.0  ...        9000.0    11.0     1\n",
              "1  1990-01  ANG MO KIO            31.0  ...        6000.0     5.0     1\n",
              "2  1990-01  ANG MO KIO            31.0  ...        8000.0    11.0     1\n",
              "3  1990-01  ANG MO KIO            31.0  ...        6000.0     8.0     1\n",
              "4  1990-01  ANG MO KIO            73.0  ...       47200.0     5.0     3\n",
              "\n",
              "[5 rows x 7 columns]"
            ]
          },
          "metadata": {
            "tags": []
          },
          "execution_count": 27
        }
      ]
    },
    {
      "cell_type": "code",
      "metadata": {
        "id": "NxhgMhPNkrvZ"
      },
      "source": [
        "\n",
        "df['floor_area_sqm'] = pd.to_numeric(df['floor_area_sqm'])\n"
      ],
      "execution_count": null,
      "outputs": []
    },
    {
      "cell_type": "code",
      "metadata": {
        "id": "qq1CIuSNrNtw"
      },
      "source": [
        "df['lease_commence_date'] = df.apply (lambda row: to_numeric(row['lease_commence_date']), axis=1)"
      ],
      "execution_count": null,
      "outputs": []
    },
    {
      "cell_type": "code",
      "metadata": {
        "colab": {
          "base_uri": "https://localhost:8080/"
        },
        "id": "MQbe8Lojsnxi",
        "outputId": "9ceedb29-2f0d-4f92-babd-267382a501ca"
      },
      "source": [
        "df.info()"
      ],
      "execution_count": null,
      "outputs": [
        {
          "output_type": "stream",
          "text": [
            "<class 'pandas.core.frame.DataFrame'>\n",
            "Int64Index: 840128 entries, 0 to 840127\n",
            "Data columns (total 7 columns):\n",
            " #   Column               Non-Null Count   Dtype  \n",
            "---  ------               --------------   -----  \n",
            " 0   month                840128 non-null  object \n",
            " 1   town                 840128 non-null  object \n",
            " 2   floor_area_sqm       840128 non-null  float64\n",
            " 3   lease_commence_date  840128 non-null  int64  \n",
            " 4   resale_price         840128 non-null  float64\n",
            " 5   storey               840128 non-null  float64\n",
            " 6   type                 840128 non-null  int64  \n",
            "dtypes: float64(3), int64(2), object(2)\n",
            "memory usage: 51.3+ MB\n"
          ],
          "name": "stdout"
        }
      ]
    },
    {
      "cell_type": "code",
      "metadata": {
        "colab": {
          "base_uri": "https://localhost:8080/",
          "height": 204
        },
        "id": "EkMpLQohtNwm",
        "outputId": "c12e3d94-6deb-4a6a-ddab-4bbc808c0d54"
      },
      "source": [
        "df.head()"
      ],
      "execution_count": null,
      "outputs": [
        {
          "output_type": "execute_result",
          "data": {
            "text/html": [
              "<div>\n",
              "<style scoped>\n",
              "    .dataframe tbody tr th:only-of-type {\n",
              "        vertical-align: middle;\n",
              "    }\n",
              "\n",
              "    .dataframe tbody tr th {\n",
              "        vertical-align: top;\n",
              "    }\n",
              "\n",
              "    .dataframe thead th {\n",
              "        text-align: right;\n",
              "    }\n",
              "</style>\n",
              "<table border=\"1\" class=\"dataframe\">\n",
              "  <thead>\n",
              "    <tr style=\"text-align: right;\">\n",
              "      <th></th>\n",
              "      <th>month</th>\n",
              "      <th>town</th>\n",
              "      <th>floor_area_sqm</th>\n",
              "      <th>lease_commence_date</th>\n",
              "      <th>resale_price</th>\n",
              "      <th>storey</th>\n",
              "      <th>type</th>\n",
              "    </tr>\n",
              "  </thead>\n",
              "  <tbody>\n",
              "    <tr>\n",
              "      <th>0</th>\n",
              "      <td>1990-01</td>\n",
              "      <td>ANG MO KIO</td>\n",
              "      <td>31.0</td>\n",
              "      <td>1977</td>\n",
              "      <td>9000.0</td>\n",
              "      <td>11.0</td>\n",
              "      <td>1</td>\n",
              "    </tr>\n",
              "    <tr>\n",
              "      <th>1</th>\n",
              "      <td>1990-01</td>\n",
              "      <td>ANG MO KIO</td>\n",
              "      <td>31.0</td>\n",
              "      <td>1977</td>\n",
              "      <td>6000.0</td>\n",
              "      <td>5.0</td>\n",
              "      <td>1</td>\n",
              "    </tr>\n",
              "    <tr>\n",
              "      <th>2</th>\n",
              "      <td>1990-01</td>\n",
              "      <td>ANG MO KIO</td>\n",
              "      <td>31.0</td>\n",
              "      <td>1977</td>\n",
              "      <td>8000.0</td>\n",
              "      <td>11.0</td>\n",
              "      <td>1</td>\n",
              "    </tr>\n",
              "    <tr>\n",
              "      <th>3</th>\n",
              "      <td>1990-01</td>\n",
              "      <td>ANG MO KIO</td>\n",
              "      <td>31.0</td>\n",
              "      <td>1977</td>\n",
              "      <td>6000.0</td>\n",
              "      <td>8.0</td>\n",
              "      <td>1</td>\n",
              "    </tr>\n",
              "    <tr>\n",
              "      <th>4</th>\n",
              "      <td>1990-01</td>\n",
              "      <td>ANG MO KIO</td>\n",
              "      <td>73.0</td>\n",
              "      <td>1976</td>\n",
              "      <td>47200.0</td>\n",
              "      <td>5.0</td>\n",
              "      <td>3</td>\n",
              "    </tr>\n",
              "  </tbody>\n",
              "</table>\n",
              "</div>"
            ],
            "text/plain": [
              "     month        town  floor_area_sqm  ...  resale_price  storey  type\n",
              "0  1990-01  ANG MO KIO            31.0  ...        9000.0    11.0     1\n",
              "1  1990-01  ANG MO KIO            31.0  ...        6000.0     5.0     1\n",
              "2  1990-01  ANG MO KIO            31.0  ...        8000.0    11.0     1\n",
              "3  1990-01  ANG MO KIO            31.0  ...        6000.0     8.0     1\n",
              "4  1990-01  ANG MO KIO            73.0  ...       47200.0     5.0     3\n",
              "\n",
              "[5 rows x 7 columns]"
            ]
          },
          "metadata": {
            "tags": []
          },
          "execution_count": 31
        }
      ]
    },
    {
      "cell_type": "code",
      "metadata": {
        "colab": {
          "base_uri": "https://localhost:8080/"
        },
        "id": "lDdRVSfau9Fr",
        "outputId": "40518be5-3747-45c5-87ee-7c3279c8779f"
      },
      "source": [
        "def getYear(s):\n",
        "  return int(s[0:4])\n",
        "getYear('2015-09')"
      ],
      "execution_count": null,
      "outputs": [
        {
          "output_type": "execute_result",
          "data": {
            "text/plain": [
              "2015"
            ]
          },
          "metadata": {
            "tags": []
          },
          "execution_count": 32
        }
      ]
    },
    {
      "cell_type": "code",
      "metadata": {
        "id": "bJmJUiREvcxK"
      },
      "source": [
        "df['year'] = df.apply(lambda row: getYear(row['month']),axis = 1)"
      ],
      "execution_count": null,
      "outputs": []
    },
    {
      "cell_type": "code",
      "metadata": {
        "colab": {
          "base_uri": "https://localhost:8080/"
        },
        "id": "fiyFhBJYvs9f",
        "outputId": "381e1d18-09a3-4bf0-8545-16d3d80c4f73"
      },
      "source": [
        "df.info()"
      ],
      "execution_count": null,
      "outputs": [
        {
          "output_type": "stream",
          "text": [
            "<class 'pandas.core.frame.DataFrame'>\n",
            "Int64Index: 840128 entries, 0 to 840127\n",
            "Data columns (total 8 columns):\n",
            " #   Column               Non-Null Count   Dtype  \n",
            "---  ------               --------------   -----  \n",
            " 0   month                840128 non-null  object \n",
            " 1   town                 840128 non-null  object \n",
            " 2   floor_area_sqm       840128 non-null  float64\n",
            " 3   lease_commence_date  840128 non-null  int64  \n",
            " 4   resale_price         840128 non-null  float64\n",
            " 5   storey               840128 non-null  float64\n",
            " 6   type                 840128 non-null  int64  \n",
            " 7   year                 840128 non-null  int64  \n",
            "dtypes: float64(3), int64(3), object(2)\n",
            "memory usage: 57.7+ MB\n"
          ],
          "name": "stdout"
        }
      ]
    },
    {
      "cell_type": "code",
      "metadata": {
        "id": "UnrZTY-Xv3nF"
      },
      "source": [
        "df = df.drop(['month'], axis = 1)"
      ],
      "execution_count": null,
      "outputs": []
    },
    {
      "cell_type": "code",
      "metadata": {
        "colab": {
          "base_uri": "https://localhost:8080/"
        },
        "id": "2hsHj12bwF0p",
        "outputId": "9f6e739e-4ad1-4fb5-c3cc-feb89be4926a"
      },
      "source": [
        "df['town'].value_counts()"
      ],
      "execution_count": null,
      "outputs": [
        {
          "output_type": "execute_result",
          "data": {
            "text/plain": [
              "TAMPINES           74115\n",
              "YISHUN             64047\n",
              "BEDOK              62143\n",
              "JURONG WEST        61457\n",
              "WOODLANDS          59405\n",
              "ANG MO KIO         48785\n",
              "HOUGANG            46157\n",
              "BUKIT BATOK        40788\n",
              "CHOA CHU KANG      33968\n",
              "BUKIT MERAH        31033\n",
              "PASIR RIS          30753\n",
              "TOA PAYOH          28951\n",
              "QUEENSTOWN         26374\n",
              "CLEMENTI           26116\n",
              "GEYLANG            26032\n",
              "SENGKANG           25216\n",
              "BUKIT PANJANG      24835\n",
              "KALLANG/WHAMPOA    24417\n",
              "JURONG EAST        23156\n",
              "SERANGOON          21391\n",
              "BISHAN             19845\n",
              "PUNGGOL            13589\n",
              "SEMBAWANG          11222\n",
              "MARINE PARADE       7480\n",
              "CENTRAL AREA        6466\n",
              "BUKIT TIMAH         2323\n",
              "LIM CHU KANG          64\n",
              "Name: town, dtype: int64"
            ]
          },
          "metadata": {
            "tags": []
          },
          "execution_count": 36
        }
      ]
    },
    {
      "cell_type": "code",
      "metadata": {
        "colab": {
          "base_uri": "https://localhost:8080/",
          "height": 359
        },
        "id": "BaQNdy-ugkDs",
        "outputId": "78c8ea83-08ba-414a-81ec-69586e2a545f"
      },
      "source": [
        "df.head(10)"
      ],
      "execution_count": null,
      "outputs": [
        {
          "output_type": "execute_result",
          "data": {
            "text/html": [
              "<div>\n",
              "<style scoped>\n",
              "    .dataframe tbody tr th:only-of-type {\n",
              "        vertical-align: middle;\n",
              "    }\n",
              "\n",
              "    .dataframe tbody tr th {\n",
              "        vertical-align: top;\n",
              "    }\n",
              "\n",
              "    .dataframe thead th {\n",
              "        text-align: right;\n",
              "    }\n",
              "</style>\n",
              "<table border=\"1\" class=\"dataframe\">\n",
              "  <thead>\n",
              "    <tr style=\"text-align: right;\">\n",
              "      <th></th>\n",
              "      <th>town</th>\n",
              "      <th>floor_area_sqm</th>\n",
              "      <th>lease_commence_date</th>\n",
              "      <th>resale_price</th>\n",
              "      <th>storey</th>\n",
              "      <th>type</th>\n",
              "      <th>year</th>\n",
              "    </tr>\n",
              "  </thead>\n",
              "  <tbody>\n",
              "    <tr>\n",
              "      <th>0</th>\n",
              "      <td>ANG MO KIO</td>\n",
              "      <td>31.0</td>\n",
              "      <td>1977</td>\n",
              "      <td>9000.0</td>\n",
              "      <td>11.0</td>\n",
              "      <td>1</td>\n",
              "      <td>1990</td>\n",
              "    </tr>\n",
              "    <tr>\n",
              "      <th>1</th>\n",
              "      <td>ANG MO KIO</td>\n",
              "      <td>31.0</td>\n",
              "      <td>1977</td>\n",
              "      <td>6000.0</td>\n",
              "      <td>5.0</td>\n",
              "      <td>1</td>\n",
              "      <td>1990</td>\n",
              "    </tr>\n",
              "    <tr>\n",
              "      <th>2</th>\n",
              "      <td>ANG MO KIO</td>\n",
              "      <td>31.0</td>\n",
              "      <td>1977</td>\n",
              "      <td>8000.0</td>\n",
              "      <td>11.0</td>\n",
              "      <td>1</td>\n",
              "      <td>1990</td>\n",
              "    </tr>\n",
              "    <tr>\n",
              "      <th>3</th>\n",
              "      <td>ANG MO KIO</td>\n",
              "      <td>31.0</td>\n",
              "      <td>1977</td>\n",
              "      <td>6000.0</td>\n",
              "      <td>8.0</td>\n",
              "      <td>1</td>\n",
              "      <td>1990</td>\n",
              "    </tr>\n",
              "    <tr>\n",
              "      <th>4</th>\n",
              "      <td>ANG MO KIO</td>\n",
              "      <td>73.0</td>\n",
              "      <td>1976</td>\n",
              "      <td>47200.0</td>\n",
              "      <td>5.0</td>\n",
              "      <td>3</td>\n",
              "      <td>1990</td>\n",
              "    </tr>\n",
              "    <tr>\n",
              "      <th>5</th>\n",
              "      <td>ANG MO KIO</td>\n",
              "      <td>67.0</td>\n",
              "      <td>1977</td>\n",
              "      <td>46000.0</td>\n",
              "      <td>2.0</td>\n",
              "      <td>3</td>\n",
              "      <td>1990</td>\n",
              "    </tr>\n",
              "    <tr>\n",
              "      <th>6</th>\n",
              "      <td>ANG MO KIO</td>\n",
              "      <td>67.0</td>\n",
              "      <td>1977</td>\n",
              "      <td>42000.0</td>\n",
              "      <td>8.0</td>\n",
              "      <td>3</td>\n",
              "      <td>1990</td>\n",
              "    </tr>\n",
              "    <tr>\n",
              "      <th>7</th>\n",
              "      <td>ANG MO KIO</td>\n",
              "      <td>67.0</td>\n",
              "      <td>1977</td>\n",
              "      <td>38000.0</td>\n",
              "      <td>11.0</td>\n",
              "      <td>3</td>\n",
              "      <td>1990</td>\n",
              "    </tr>\n",
              "    <tr>\n",
              "      <th>8</th>\n",
              "      <td>ANG MO KIO</td>\n",
              "      <td>67.0</td>\n",
              "      <td>1977</td>\n",
              "      <td>40000.0</td>\n",
              "      <td>5.0</td>\n",
              "      <td>3</td>\n",
              "      <td>1990</td>\n",
              "    </tr>\n",
              "    <tr>\n",
              "      <th>9</th>\n",
              "      <td>ANG MO KIO</td>\n",
              "      <td>67.0</td>\n",
              "      <td>1977</td>\n",
              "      <td>47000.0</td>\n",
              "      <td>2.0</td>\n",
              "      <td>3</td>\n",
              "      <td>1990</td>\n",
              "    </tr>\n",
              "  </tbody>\n",
              "</table>\n",
              "</div>"
            ],
            "text/plain": [
              "         town  floor_area_sqm  lease_commence_date  ...  storey  type  year\n",
              "0  ANG MO KIO            31.0                 1977  ...    11.0     1  1990\n",
              "1  ANG MO KIO            31.0                 1977  ...     5.0     1  1990\n",
              "2  ANG MO KIO            31.0                 1977  ...    11.0     1  1990\n",
              "3  ANG MO KIO            31.0                 1977  ...     8.0     1  1990\n",
              "4  ANG MO KIO            73.0                 1976  ...     5.0     3  1990\n",
              "5  ANG MO KIO            67.0                 1977  ...     2.0     3  1990\n",
              "6  ANG MO KIO            67.0                 1977  ...     8.0     3  1990\n",
              "7  ANG MO KIO            67.0                 1977  ...    11.0     3  1990\n",
              "8  ANG MO KIO            67.0                 1977  ...     5.0     3  1990\n",
              "9  ANG MO KIO            67.0                 1977  ...     2.0     3  1990\n",
              "\n",
              "[10 rows x 7 columns]"
            ]
          },
          "metadata": {
            "tags": []
          },
          "execution_count": 37
        }
      ]
    },
    {
      "cell_type": "code",
      "metadata": {
        "colab": {
          "base_uri": "https://localhost:8080/",
          "height": 625
        },
        "id": "lmMXjyzdghJD",
        "outputId": "c799b7c1-4eae-4924-eb28-a14acae362d6"
      },
      "source": [
        "plt.figure(figsize=(14, 10))\n",
        "sns.heatmap(df[[\"resale_price\", \"lease_commence_date\", \"floor_area_sqm\", \"storey\", \"type\", \"year\"]].corr(), annot=True)\n",
        "plt.title(\"Heatmap with resale_price, lease_commence_date, floor_area_sqm, storey, type, year\")"
      ],
      "execution_count": null,
      "outputs": [
        {
          "output_type": "execute_result",
          "data": {
            "text/plain": [
              "Text(0.5, 1.0, 'Heatmap with resale_price, lease_commence_date, floor_area_sqm, storey, type, year')"
            ]
          },
          "metadata": {
            "tags": []
          },
          "execution_count": 38
        },
        {
          "output_type": "display_data",
          "data": {
            "image/png": "[encoded data removed]",
            "text/plain": [
              "<Figure size 1008x720 with 2 Axes>"
            ]
          },
          "metadata": {
            "tags": [],
            "needs_background": "light"
          }
        }
      ]
    },
    {
      "cell_type": "code",
      "metadata": {
        "colab": {
          "base_uri": "https://localhost:8080/"
        },
        "id": "9ZWj0BoXzIi2",
        "outputId": "5a938659-a36c-4ca9-feb1-706450a61a77"
      },
      "source": [
        "!pip install catboost"
      ],
      "execution_count": null,
      "outputs": [
        {
          "output_type": "stream",
          "text": [
            "Collecting catboost\n",
            "\u001b[?25l  Downloading https://files.pythonhosted.org/packages/1e/21/d1718eb4c93d6bacdd540b3792187f32ccb1ad9c51b9c4f10875d63ec176/catboost-0.25-cp37-none-manylinux1_x86_64.whl (67.3MB)\n",
            "\u001b[K     |████████████████████████████████| 67.3MB 56kB/s \n",
            "\u001b[?25hRequirement already satisfied: matplotlib in /usr/local/lib/python3.7/dist-packages (from catboost) (3.2.2)\n",
            "Requirement already satisfied: numpy>=1.16.0 in /usr/local/lib/python3.7/dist-packages (from catboost) (1.19.5)\n",
            "Requirement already satisfied: pandas>=0.24.0 in /usr/local/lib/python3.7/dist-packages (from catboost) (1.1.5)\n",
            "Requirement already satisfied: plotly in /usr/local/lib/python3.7/dist-packages (from catboost) (4.4.1)\n",
            "Requirement already satisfied: six in /usr/local/lib/python3.7/dist-packages (from catboost) (1.15.0)\n",
            "Requirement already satisfied: scipy in /usr/local/lib/python3.7/dist-packages (from catboost) (1.4.1)\n",
            "Requirement already satisfied: graphviz in /usr/local/lib/python3.7/dist-packages (from catboost) (0.10.1)\n",
            "Requirement already satisfied: kiwisolver>=1.0.1 in /usr/local/lib/python3.7/dist-packages (from matplotlib->catboost) (1.3.1)\n",
            "Requirement already satisfied: python-dateutil>=2.1 in /usr/local/lib/python3.7/dist-packages (from matplotlib->catboost) (2.8.1)\n",
            "Requirement already satisfied: pyparsing!=2.0.4,!=2.1.2,!=2.1.6,>=2.0.1 in /usr/local/lib/python3.7/dist-packages (from matplotlib->catboost) (2.4.7)\n",
            "Requirement already satisfied: cycler>=0.10 in /usr/local/lib/python3.7/dist-packages (from matplotlib->catboost) (0.10.0)\n",
            "Requirement already satisfied: pytz>=2017.2 in /usr/local/lib/python3.7/dist-packages (from pandas>=0.24.0->catboost) (2018.9)\n",
            "Requirement already satisfied: retrying>=1.3.3 in /usr/local/lib/python3.7/dist-packages (from plotly->catboost) (1.3.3)\n",
            "Installing collected packages: catboost\n",
            "Successfully installed catboost-0.25\n"
          ],
          "name": "stdout"
        }
      ]
    },
    {
      "cell_type": "code",
      "metadata": {
        "id": "2qW_PNY9y7-d"
      },
      "source": [
        "from catboost import CatBoostRegressor"
      ],
      "execution_count": null,
      "outputs": []
    },
    {
      "cell_type": "code",
      "metadata": {
        "id": "yGpZjS2szSS4"
      },
      "source": [
        "from sklearn.model_selection import train_test_split\n",
        "train, test = train_test_split(df,test_size = 0.1,shuffle=True)"
      ],
      "execution_count": null,
      "outputs": []
    },
    {
      "cell_type": "code",
      "metadata": {
        "colab": {
          "base_uri": "https://localhost:8080/"
        },
        "id": "3aGcbmSR5Rtq",
        "outputId": "1c53e394-802c-4ab4-ad2d-2c06db9267b8"
      },
      "source": [
        "df.info()"
      ],
      "execution_count": null,
      "outputs": [
        {
          "output_type": "stream",
          "text": [
            "<class 'pandas.core.frame.DataFrame'>\n",
            "Int64Index: 840128 entries, 0 to 840127\n",
            "Data columns (total 7 columns):\n",
            " #   Column               Non-Null Count   Dtype  \n",
            "---  ------               --------------   -----  \n",
            " 0   town                 840128 non-null  object \n",
            " 1   floor_area_sqm       840128 non-null  float64\n",
            " 2   lease_commence_date  840128 non-null  int64  \n",
            " 3   resale_price         840128 non-null  float64\n",
            " 4   storey               840128 non-null  float64\n",
            " 5   type                 840128 non-null  int64  \n",
            " 6   year                 840128 non-null  int64  \n",
            "dtypes: float64(3), int64(3), object(1)\n",
            "memory usage: 51.3+ MB\n"
          ],
          "name": "stdout"
        }
      ]
    },
    {
      "cell_type": "code",
      "metadata": {
        "id": "v2rb-sar6CSu"
      },
      "source": [
        "features = ['town', 'floor_area_sqm', 'lease_commence_date', 'storey','type', 'year']\n",
        "cat_features = ['town']\n",
        "label = ['resale_price']"
      ],
      "execution_count": null,
      "outputs": []
    },
    {
      "cell_type": "code",
      "metadata": {
        "id": "syY2PIn96X3n"
      },
      "source": [
        "X_train = train[features]\n",
        "y_train = train[label]\n",
        "X_test = test[features]\n",
        "y_test = test[label]"
      ],
      "execution_count": null,
      "outputs": []
    },
    {
      "cell_type": "code",
      "metadata": {
        "colab": {
          "base_uri": "https://localhost:8080/"
        },
        "id": "zDMMhi_F7UPc",
        "outputId": "c4cda725-d130-4b13-ffaf-2b4cf1907dda"
      },
      "source": [
        "df['resale_price'].value_counts()"
      ],
      "execution_count": null,
      "outputs": [
        {
          "output_type": "execute_result",
          "data": {
            "text/plain": [
              "300000.0    6537\n",
              "280000.0    6356\n",
              "250000.0    6197\n",
              "350000.0    6129\n",
              "320000.0    6077\n",
              "            ... \n",
              "290777.0       1\n",
              "290988.0       1\n",
              "291100.0       1\n",
              "291180.0       1\n",
              "264250.0       1\n",
              "Name: resale_price, Length: 8594, dtype: int64"
            ]
          },
          "metadata": {
            "tags": []
          },
          "execution_count": 36
        }
      ]
    },
    {
      "cell_type": "code",
      "metadata": {
        "colab": {
          "base_uri": "https://localhost:8080/"
        },
        "id": "lmaGL65F7Z_i",
        "outputId": "804f764e-b363-4ee7-b414-68499863b4a4"
      },
      "source": [
        "df.isna().sum()"
      ],
      "execution_count": null,
      "outputs": [
        {
          "output_type": "execute_result",
          "data": {
            "text/plain": [
              "town                   0\n",
              "floor_area_sqm         0\n",
              "lease_commence_date    0\n",
              "resale_price           0\n",
              "storey                 0\n",
              "type                   0\n",
              "year                   0\n",
              "dtype: int64"
            ]
          },
          "metadata": {
            "tags": []
          },
          "execution_count": 37
        }
      ]
    },
    {
      "cell_type": "code",
      "metadata": {
        "colab": {
          "base_uri": "https://localhost:8080/",
          "height": 359
        },
        "id": "GmWPJUuv93Tu",
        "outputId": "14fa99d5-8308-434c-9308-ba52db31fe29"
      },
      "source": [
        "df.head(10)\n"
      ],
      "execution_count": null,
      "outputs": [
        {
          "output_type": "execute_result",
          "data": {
            "text/html": [
              "<div>\n",
              "<style scoped>\n",
              "    .dataframe tbody tr th:only-of-type {\n",
              "        vertical-align: middle;\n",
              "    }\n",
              "\n",
              "    .dataframe tbody tr th {\n",
              "        vertical-align: top;\n",
              "    }\n",
              "\n",
              "    .dataframe thead th {\n",
              "        text-align: right;\n",
              "    }\n",
              "</style>\n",
              "<table border=\"1\" class=\"dataframe\">\n",
              "  <thead>\n",
              "    <tr style=\"text-align: right;\">\n",
              "      <th></th>\n",
              "      <th>town</th>\n",
              "      <th>floor_area_sqm</th>\n",
              "      <th>lease_commence_date</th>\n",
              "      <th>resale_price</th>\n",
              "      <th>storey</th>\n",
              "      <th>type</th>\n",
              "      <th>year</th>\n",
              "    </tr>\n",
              "  </thead>\n",
              "  <tbody>\n",
              "    <tr>\n",
              "      <th>0</th>\n",
              "      <td>ANG MO KIO</td>\n",
              "      <td>31.0</td>\n",
              "      <td>1977</td>\n",
              "      <td>9000.0</td>\n",
              "      <td>11.0</td>\n",
              "      <td>1</td>\n",
              "      <td>1990</td>\n",
              "    </tr>\n",
              "    <tr>\n",
              "      <th>1</th>\n",
              "      <td>ANG MO KIO</td>\n",
              "      <td>31.0</td>\n",
              "      <td>1977</td>\n",
              "      <td>6000.0</td>\n",
              "      <td>5.0</td>\n",
              "      <td>1</td>\n",
              "      <td>1990</td>\n",
              "    </tr>\n",
              "    <tr>\n",
              "      <th>2</th>\n",
              "      <td>ANG MO KIO</td>\n",
              "      <td>31.0</td>\n",
              "      <td>1977</td>\n",
              "      <td>8000.0</td>\n",
              "      <td>11.0</td>\n",
              "      <td>1</td>\n",
              "      <td>1990</td>\n",
              "    </tr>\n",
              "    <tr>\n",
              "      <th>3</th>\n",
              "      <td>ANG MO KIO</td>\n",
              "      <td>31.0</td>\n",
              "      <td>1977</td>\n",
              "      <td>6000.0</td>\n",
              "      <td>8.0</td>\n",
              "      <td>1</td>\n",
              "      <td>1990</td>\n",
              "    </tr>\n",
              "    <tr>\n",
              "      <th>4</th>\n",
              "      <td>ANG MO KIO</td>\n",
              "      <td>73.0</td>\n",
              "      <td>1976</td>\n",
              "      <td>47200.0</td>\n",
              "      <td>5.0</td>\n",
              "      <td>3</td>\n",
              "      <td>1990</td>\n",
              "    </tr>\n",
              "    <tr>\n",
              "      <th>5</th>\n",
              "      <td>ANG MO KIO</td>\n",
              "      <td>67.0</td>\n",
              "      <td>1977</td>\n",
              "      <td>46000.0</td>\n",
              "      <td>2.0</td>\n",
              "      <td>3</td>\n",
              "      <td>1990</td>\n",
              "    </tr>\n",
              "    <tr>\n",
              "      <th>6</th>\n",
              "      <td>ANG MO KIO</td>\n",
              "      <td>67.0</td>\n",
              "      <td>1977</td>\n",
              "      <td>42000.0</td>\n",
              "      <td>8.0</td>\n",
              "      <td>3</td>\n",
              "      <td>1990</td>\n",
              "    </tr>\n",
              "    <tr>\n",
              "      <th>7</th>\n",
              "      <td>ANG MO KIO</td>\n",
              "      <td>67.0</td>\n",
              "      <td>1977</td>\n",
              "      <td>38000.0</td>\n",
              "      <td>11.0</td>\n",
              "      <td>3</td>\n",
              "      <td>1990</td>\n",
              "    </tr>\n",
              "    <tr>\n",
              "      <th>8</th>\n",
              "      <td>ANG MO KIO</td>\n",
              "      <td>67.0</td>\n",
              "      <td>1977</td>\n",
              "      <td>40000.0</td>\n",
              "      <td>5.0</td>\n",
              "      <td>3</td>\n",
              "      <td>1990</td>\n",
              "    </tr>\n",
              "    <tr>\n",
              "      <th>9</th>\n",
              "      <td>ANG MO KIO</td>\n",
              "      <td>67.0</td>\n",
              "      <td>1977</td>\n",
              "      <td>47000.0</td>\n",
              "      <td>2.0</td>\n",
              "      <td>3</td>\n",
              "      <td>1990</td>\n",
              "    </tr>\n",
              "  </tbody>\n",
              "</table>\n",
              "</div>"
            ],
            "text/plain": [
              "         town  floor_area_sqm  lease_commence_date  ...  storey  type  year\n",
              "0  ANG MO KIO            31.0                 1977  ...    11.0     1  1990\n",
              "1  ANG MO KIO            31.0                 1977  ...     5.0     1  1990\n",
              "2  ANG MO KIO            31.0                 1977  ...    11.0     1  1990\n",
              "3  ANG MO KIO            31.0                 1977  ...     8.0     1  1990\n",
              "4  ANG MO KIO            73.0                 1976  ...     5.0     3  1990\n",
              "5  ANG MO KIO            67.0                 1977  ...     2.0     3  1990\n",
              "6  ANG MO KIO            67.0                 1977  ...     8.0     3  1990\n",
              "7  ANG MO KIO            67.0                 1977  ...    11.0     3  1990\n",
              "8  ANG MO KIO            67.0                 1977  ...     5.0     3  1990\n",
              "9  ANG MO KIO            67.0                 1977  ...     2.0     3  1990\n",
              "\n",
              "[10 rows x 7 columns]"
            ]
          },
          "metadata": {
            "tags": []
          },
          "execution_count": 38
        }
      ]
    },
    {
      "cell_type": "code",
      "metadata": {
        "colab": {
          "base_uri": "https://localhost:8080/",
          "height": 419
        },
        "id": "tfgrQ-_7-GFY",
        "outputId": "be975af2-a544-496b-cf00-67cc8d71db6e"
      },
      "source": [
        "test"
      ],
      "execution_count": null,
      "outputs": [
        {
          "output_type": "execute_result",
          "data": {
            "text/html": [
              "<div>\n",
              "<style scoped>\n",
              "    .dataframe tbody tr th:only-of-type {\n",
              "        vertical-align: middle;\n",
              "    }\n",
              "\n",
              "    .dataframe tbody tr th {\n",
              "        vertical-align: top;\n",
              "    }\n",
              "\n",
              "    .dataframe thead th {\n",
              "        text-align: right;\n",
              "    }\n",
              "</style>\n",
              "<table border=\"1\" class=\"dataframe\">\n",
              "  <thead>\n",
              "    <tr style=\"text-align: right;\">\n",
              "      <th></th>\n",
              "      <th>town</th>\n",
              "      <th>floor_area_sqm</th>\n",
              "      <th>lease_commence_date</th>\n",
              "      <th>resale_price</th>\n",
              "      <th>storey</th>\n",
              "      <th>type</th>\n",
              "      <th>year</th>\n",
              "    </tr>\n",
              "  </thead>\n",
              "  <tbody>\n",
              "    <tr>\n",
              "      <th>401717</th>\n",
              "      <td>HOUGANG</td>\n",
              "      <td>104.0</td>\n",
              "      <td>1992</td>\n",
              "      <td>220000.0</td>\n",
              "      <td>5.0</td>\n",
              "      <td>4</td>\n",
              "      <td>2003</td>\n",
              "    </tr>\n",
              "    <tr>\n",
              "      <th>345030</th>\n",
              "      <td>HOUGANG</td>\n",
              "      <td>105.0</td>\n",
              "      <td>1989</td>\n",
              "      <td>252000.0</td>\n",
              "      <td>8.0</td>\n",
              "      <td>4</td>\n",
              "      <td>2001</td>\n",
              "    </tr>\n",
              "    <tr>\n",
              "      <th>629596</th>\n",
              "      <td>BEDOK</td>\n",
              "      <td>118.0</td>\n",
              "      <td>1978</td>\n",
              "      <td>620000.0</td>\n",
              "      <td>23.0</td>\n",
              "      <td>5</td>\n",
              "      <td>2010</td>\n",
              "    </tr>\n",
              "    <tr>\n",
              "      <th>183645</th>\n",
              "      <td>SERANGOON</td>\n",
              "      <td>146.0</td>\n",
              "      <td>1986</td>\n",
              "      <td>540000.0</td>\n",
              "      <td>8.0</td>\n",
              "      <td>6</td>\n",
              "      <td>1998</td>\n",
              "    </tr>\n",
              "    <tr>\n",
              "      <th>343056</th>\n",
              "      <td>TOA PAYOH</td>\n",
              "      <td>67.0</td>\n",
              "      <td>1970</td>\n",
              "      <td>146000.0</td>\n",
              "      <td>14.0</td>\n",
              "      <td>3</td>\n",
              "      <td>2001</td>\n",
              "    </tr>\n",
              "    <tr>\n",
              "      <th>...</th>\n",
              "      <td>...</td>\n",
              "      <td>...</td>\n",
              "      <td>...</td>\n",
              "      <td>...</td>\n",
              "      <td>...</td>\n",
              "      <td>...</td>\n",
              "      <td>...</td>\n",
              "    </tr>\n",
              "    <tr>\n",
              "      <th>526225</th>\n",
              "      <td>PUNGGOL</td>\n",
              "      <td>110.0</td>\n",
              "      <td>2003</td>\n",
              "      <td>302000.0</td>\n",
              "      <td>17.0</td>\n",
              "      <td>5</td>\n",
              "      <td>2007</td>\n",
              "    </tr>\n",
              "    <tr>\n",
              "      <th>546509</th>\n",
              "      <td>KALLANG/WHAMPOA</td>\n",
              "      <td>59.0</td>\n",
              "      <td>1973</td>\n",
              "      <td>184000.0</td>\n",
              "      <td>14.0</td>\n",
              "      <td>3</td>\n",
              "      <td>2008</td>\n",
              "    </tr>\n",
              "    <tr>\n",
              "      <th>284702</th>\n",
              "      <td>BEDOK</td>\n",
              "      <td>91.0</td>\n",
              "      <td>1978</td>\n",
              "      <td>239000.0</td>\n",
              "      <td>11.0</td>\n",
              "      <td>4</td>\n",
              "      <td>1999</td>\n",
              "    </tr>\n",
              "    <tr>\n",
              "      <th>623184</th>\n",
              "      <td>PUNGGOL</td>\n",
              "      <td>110.0</td>\n",
              "      <td>2003</td>\n",
              "      <td>480000.0</td>\n",
              "      <td>11.0</td>\n",
              "      <td>5</td>\n",
              "      <td>2010</td>\n",
              "    </tr>\n",
              "    <tr>\n",
              "      <th>700466</th>\n",
              "      <td>BUKIT PANJANG</td>\n",
              "      <td>122.0</td>\n",
              "      <td>1988</td>\n",
              "      <td>425000.0</td>\n",
              "      <td>5.0</td>\n",
              "      <td>5</td>\n",
              "      <td>2017</td>\n",
              "    </tr>\n",
              "  </tbody>\n",
              "</table>\n",
              "<p>84013 rows × 7 columns</p>\n",
              "</div>"
            ],
            "text/plain": [
              "                   town  floor_area_sqm  ...  type  year\n",
              "401717          HOUGANG           104.0  ...     4  2003\n",
              "345030          HOUGANG           105.0  ...     4  2001\n",
              "629596            BEDOK           118.0  ...     5  2010\n",
              "183645        SERANGOON           146.0  ...     6  1998\n",
              "343056        TOA PAYOH            67.0  ...     3  2001\n",
              "...                 ...             ...  ...   ...   ...\n",
              "526225          PUNGGOL           110.0  ...     5  2007\n",
              "546509  KALLANG/WHAMPOA            59.0  ...     3  2008\n",
              "284702            BEDOK            91.0  ...     4  1999\n",
              "623184          PUNGGOL           110.0  ...     5  2010\n",
              "700466    BUKIT PANJANG           122.0  ...     5  2017\n",
              "\n",
              "[84013 rows x 7 columns]"
            ]
          },
          "metadata": {
            "tags": []
          },
          "execution_count": 39
        }
      ]
    },
    {
      "cell_type": "code",
      "metadata": {
        "colab": {
          "base_uri": "https://localhost:8080/"
        },
        "id": "xrDC_d199-mM",
        "outputId": "13648afd-9c3e-46f0-b46c-189cffe3c5df"
      },
      "source": [
        "df.shape"
      ],
      "execution_count": null,
      "outputs": [
        {
          "output_type": "execute_result",
          "data": {
            "text/plain": [
              "(840128, 7)"
            ]
          },
          "metadata": {
            "tags": []
          },
          "execution_count": 40
        }
      ]
    },
    {
      "cell_type": "code",
      "metadata": {
        "colab": {
          "base_uri": "https://localhost:8080/"
        },
        "id": "_haIMbM-7KBr",
        "outputId": "cccc60e3-d405-4bef-e330-c44a573dff55"
      },
      "source": [
        "model = CatBoostRegressor(iterations=200,\n",
        "                          learning_rate=0.2,\n",
        "                          depth=7)\n",
        "model.fit(X_train, y_train, cat_features)"
      ],
      "execution_count": null,
      "outputs": [
        {
          "output_type": "stream",
          "text": [
            "0:\tlearn: 127404.9888427\ttotal: 485ms\tremaining: 1m 36s\n",
            "1:\tlearn: 109516.1999198\ttotal: 835ms\tremaining: 1m 22s\n",
            "2:\tlearn: 95984.2471874\ttotal: 1.19s\tremaining: 1m 18s\n",
            "3:\tlearn: 85656.9330189\ttotal: 1.59s\tremaining: 1m 18s\n",
            "4:\tlearn: 78061.7033639\ttotal: 1.97s\tremaining: 1m 16s\n",
            "5:\tlearn: 72149.8635304\ttotal: 2.34s\tremaining: 1m 15s\n",
            "6:\tlearn: 67604.6202852\ttotal: 2.76s\tremaining: 1m 16s\n",
            "7:\tlearn: 63981.3376596\ttotal: 3.1s\tremaining: 1m 14s\n",
            "8:\tlearn: 59007.3549191\ttotal: 3.36s\tremaining: 1m 11s\n",
            "9:\tlearn: 56048.6103981\ttotal: 3.63s\tremaining: 1m 8s\n",
            "10:\tlearn: 54146.6905465\ttotal: 3.94s\tremaining: 1m 7s\n",
            "11:\tlearn: 52415.2245514\ttotal: 4.25s\tremaining: 1m 6s\n",
            "12:\tlearn: 51229.2860150\ttotal: 4.62s\tremaining: 1m 6s\n",
            "13:\tlearn: 48417.2096757\ttotal: 4.95s\tremaining: 1m 5s\n",
            "14:\tlearn: 47547.2712079\ttotal: 5.27s\tremaining: 1m 5s\n",
            "15:\tlearn: 46796.9306139\ttotal: 5.64s\tremaining: 1m 4s\n",
            "16:\tlearn: 44898.9165628\ttotal: 5.93s\tremaining: 1m 3s\n",
            "17:\tlearn: 44242.5418840\ttotal: 6.22s\tremaining: 1m 2s\n",
            "18:\tlearn: 42959.6600458\ttotal: 6.54s\tremaining: 1m 2s\n",
            "19:\tlearn: 42004.7007395\ttotal: 6.81s\tremaining: 1m 1s\n",
            "20:\tlearn: 41514.8246518\ttotal: 7.18s\tremaining: 1m 1s\n",
            "21:\tlearn: 41095.4239731\ttotal: 7.54s\tremaining: 1m\n",
            "22:\tlearn: 40771.4417912\ttotal: 7.86s\tremaining: 1m\n",
            "23:\tlearn: 40073.3161412\ttotal: 8.18s\tremaining: 60s\n",
            "24:\tlearn: 39786.7922624\ttotal: 8.44s\tremaining: 59.1s\n",
            "25:\tlearn: 39006.6320199\ttotal: 8.75s\tremaining: 58.6s\n",
            "26:\tlearn: 38745.4282974\ttotal: 9.03s\tremaining: 57.8s\n",
            "27:\tlearn: 38430.9378327\ttotal: 9.34s\tremaining: 57.4s\n",
            "28:\tlearn: 38239.2300431\ttotal: 9.66s\tremaining: 56.9s\n",
            "29:\tlearn: 38005.2017089\ttotal: 9.97s\tremaining: 56.5s\n",
            "30:\tlearn: 37808.6879684\ttotal: 10.3s\tremaining: 56.2s\n",
            "31:\tlearn: 37654.6117459\ttotal: 10.6s\tremaining: 55.7s\n",
            "32:\tlearn: 37421.2384436\ttotal: 10.9s\tremaining: 55s\n",
            "33:\tlearn: 37026.3542611\ttotal: 11.1s\tremaining: 54.4s\n",
            "34:\tlearn: 36779.6597362\ttotal: 11.4s\tremaining: 53.8s\n",
            "35:\tlearn: 36661.8426714\ttotal: 11.7s\tremaining: 53.4s\n",
            "36:\tlearn: 36154.5464432\ttotal: 12s\tremaining: 52.9s\n",
            "37:\tlearn: 35984.6556118\ttotal: 12.3s\tremaining: 52.6s\n",
            "38:\tlearn: 35804.9859496\ttotal: 12.6s\tremaining: 52.1s\n",
            "39:\tlearn: 35563.8802988\ttotal: 12.9s\tremaining: 51.5s\n",
            "40:\tlearn: 35429.2774865\ttotal: 13.1s\tremaining: 50.9s\n",
            "41:\tlearn: 35319.6736934\ttotal: 13.5s\tremaining: 50.7s\n",
            "42:\tlearn: 35198.5967300\ttotal: 13.8s\tremaining: 50.2s\n",
            "43:\tlearn: 34992.2249255\ttotal: 14s\tremaining: 49.7s\n",
            "44:\tlearn: 34872.9132245\ttotal: 14.3s\tremaining: 49.2s\n",
            "45:\tlearn: 34739.6626527\ttotal: 14.6s\tremaining: 48.8s\n",
            "46:\tlearn: 34626.6877670\ttotal: 14.9s\tremaining: 48.4s\n",
            "47:\tlearn: 34481.5157298\ttotal: 15.2s\tremaining: 48s\n",
            "48:\tlearn: 34394.2949509\ttotal: 15.5s\tremaining: 47.7s\n",
            "49:\tlearn: 34331.5462229\ttotal: 15.8s\tremaining: 47.5s\n",
            "50:\tlearn: 34193.9740271\ttotal: 16.1s\tremaining: 47.1s\n",
            "51:\tlearn: 34099.4407178\ttotal: 16.4s\tremaining: 46.8s\n",
            "52:\tlearn: 33888.5464558\ttotal: 16.7s\tremaining: 46.5s\n",
            "53:\tlearn: 33756.6404664\ttotal: 17s\tremaining: 45.9s\n",
            "54:\tlearn: 33608.9558388\ttotal: 17.3s\tremaining: 45.5s\n",
            "55:\tlearn: 33474.3735391\ttotal: 17.5s\tremaining: 45.1s\n",
            "56:\tlearn: 33382.3482898\ttotal: 17.9s\tremaining: 45s\n",
            "57:\tlearn: 33317.0143675\ttotal: 18.3s\tremaining: 44.7s\n",
            "58:\tlearn: 33208.6122643\ttotal: 18.5s\tremaining: 44.3s\n",
            "59:\tlearn: 33120.3636691\ttotal: 18.8s\tremaining: 43.9s\n",
            "60:\tlearn: 33057.0546099\ttotal: 19.1s\tremaining: 43.6s\n",
            "61:\tlearn: 32981.1944104\ttotal: 19.5s\tremaining: 43.3s\n",
            "62:\tlearn: 32849.1271948\ttotal: 19.8s\tremaining: 43.1s\n",
            "63:\tlearn: 32770.8905930\ttotal: 20.1s\tremaining: 42.8s\n",
            "64:\tlearn: 32618.4318789\ttotal: 20.5s\tremaining: 42.5s\n",
            "65:\tlearn: 32488.6646680\ttotal: 20.8s\tremaining: 42.2s\n",
            "66:\tlearn: 32432.9710964\ttotal: 21.1s\tremaining: 41.9s\n",
            "67:\tlearn: 32359.7223971\ttotal: 21.4s\tremaining: 41.6s\n",
            "68:\tlearn: 32290.2786726\ttotal: 21.7s\tremaining: 41.2s\n",
            "69:\tlearn: 32159.8009948\ttotal: 22s\tremaining: 40.9s\n",
            "70:\tlearn: 32081.1995833\ttotal: 22.3s\tremaining: 40.5s\n",
            "71:\tlearn: 32044.4871944\ttotal: 22.6s\tremaining: 40.2s\n",
            "72:\tlearn: 31987.5649429\ttotal: 23s\tremaining: 40s\n",
            "73:\tlearn: 31918.9147788\ttotal: 23.3s\tremaining: 39.7s\n",
            "74:\tlearn: 31809.7019227\ttotal: 23.6s\tremaining: 39.3s\n",
            "75:\tlearn: 31767.9710051\ttotal: 24s\tremaining: 39.1s\n",
            "76:\tlearn: 31730.1347745\ttotal: 24.3s\tremaining: 38.8s\n",
            "77:\tlearn: 31692.2116243\ttotal: 24.6s\tremaining: 38.5s\n",
            "78:\tlearn: 31638.3910834\ttotal: 24.9s\tremaining: 38.2s\n",
            "79:\tlearn: 31617.2238738\ttotal: 25.3s\tremaining: 37.9s\n",
            "80:\tlearn: 31543.3726945\ttotal: 25.6s\tremaining: 37.6s\n",
            "81:\tlearn: 31446.4224277\ttotal: 25.8s\tremaining: 37.2s\n",
            "82:\tlearn: 31388.0582021\ttotal: 26.1s\tremaining: 36.8s\n",
            "83:\tlearn: 31317.1151435\ttotal: 26.5s\tremaining: 36.6s\n",
            "84:\tlearn: 31222.5894996\ttotal: 26.8s\tremaining: 36.3s\n",
            "85:\tlearn: 31165.4149851\ttotal: 27.1s\tremaining: 35.9s\n",
            "86:\tlearn: 31123.3953102\ttotal: 27.4s\tremaining: 35.5s\n",
            "87:\tlearn: 31095.4567877\ttotal: 27.7s\tremaining: 35.2s\n",
            "88:\tlearn: 31051.6747637\ttotal: 28s\tremaining: 34.9s\n",
            "89:\tlearn: 31004.9316750\ttotal: 28.3s\tremaining: 34.6s\n",
            "90:\tlearn: 30923.2278321\ttotal: 28.6s\tremaining: 34.3s\n",
            "91:\tlearn: 30863.5365718\ttotal: 28.8s\tremaining: 33.9s\n",
            "92:\tlearn: 30820.2357142\ttotal: 29.2s\tremaining: 33.6s\n",
            "93:\tlearn: 30762.3381494\ttotal: 29.5s\tremaining: 33.3s\n",
            "94:\tlearn: 30725.6850973\ttotal: 29.8s\tremaining: 33s\n",
            "95:\tlearn: 30692.6628049\ttotal: 30.2s\tremaining: 32.7s\n",
            "96:\tlearn: 30664.6565339\ttotal: 30.4s\tremaining: 32.3s\n",
            "97:\tlearn: 30605.4776314\ttotal: 30.7s\tremaining: 32s\n",
            "98:\tlearn: 30569.1274413\ttotal: 31.1s\tremaining: 31.7s\n",
            "99:\tlearn: 30542.5478462\ttotal: 31.4s\tremaining: 31.4s\n",
            "100:\tlearn: 30517.6366105\ttotal: 31.7s\tremaining: 31.1s\n",
            "101:\tlearn: 30483.6790449\ttotal: 32s\tremaining: 30.7s\n",
            "102:\tlearn: 30454.4090361\ttotal: 32.3s\tremaining: 30.5s\n",
            "103:\tlearn: 30426.7398487\ttotal: 32.7s\tremaining: 30.2s\n",
            "104:\tlearn: 30402.1018649\ttotal: 33s\tremaining: 29.8s\n",
            "105:\tlearn: 30364.5863613\ttotal: 33.3s\tremaining: 29.5s\n",
            "106:\tlearn: 30326.3631993\ttotal: 33.6s\tremaining: 29.2s\n",
            "107:\tlearn: 30278.8726298\ttotal: 33.9s\tremaining: 28.8s\n",
            "108:\tlearn: 30249.4516399\ttotal: 34.2s\tremaining: 28.6s\n",
            "109:\tlearn: 30186.5955103\ttotal: 34.5s\tremaining: 28.2s\n",
            "110:\tlearn: 30166.2920532\ttotal: 34.8s\tremaining: 27.9s\n",
            "111:\tlearn: 30087.0932379\ttotal: 35.1s\tremaining: 27.6s\n",
            "112:\tlearn: 30055.9098931\ttotal: 35.4s\tremaining: 27.2s\n",
            "113:\tlearn: 30021.5052853\ttotal: 35.8s\tremaining: 27s\n",
            "114:\tlearn: 30008.0946961\ttotal: 36.1s\tremaining: 26.7s\n",
            "115:\tlearn: 29950.0045682\ttotal: 36.3s\tremaining: 26.3s\n",
            "116:\tlearn: 29914.2663157\ttotal: 36.6s\tremaining: 26s\n",
            "117:\tlearn: 29893.4401677\ttotal: 37s\tremaining: 25.7s\n",
            "118:\tlearn: 29871.5224894\ttotal: 37.2s\tremaining: 25.3s\n",
            "119:\tlearn: 29846.7348385\ttotal: 37.6s\tremaining: 25.1s\n",
            "120:\tlearn: 29813.6611031\ttotal: 37.8s\tremaining: 24.7s\n",
            "121:\tlearn: 29789.3847899\ttotal: 38.1s\tremaining: 24.4s\n",
            "122:\tlearn: 29751.1696083\ttotal: 38.5s\tremaining: 24.1s\n",
            "123:\tlearn: 29695.0301696\ttotal: 38.8s\tremaining: 23.8s\n",
            "124:\tlearn: 29639.4647054\ttotal: 39.1s\tremaining: 23.5s\n",
            "125:\tlearn: 29610.2700486\ttotal: 39.4s\tremaining: 23.1s\n",
            "126:\tlearn: 29571.9012709\ttotal: 39.7s\tremaining: 22.8s\n",
            "127:\tlearn: 29559.1708987\ttotal: 39.9s\tremaining: 22.5s\n",
            "128:\tlearn: 29527.9499345\ttotal: 40.2s\tremaining: 22.1s\n",
            "129:\tlearn: 29508.0488019\ttotal: 40.5s\tremaining: 21.8s\n",
            "130:\tlearn: 29482.1348615\ttotal: 40.9s\tremaining: 21.5s\n",
            "131:\tlearn: 29427.8033244\ttotal: 41.2s\tremaining: 21.2s\n",
            "132:\tlearn: 29405.4747756\ttotal: 41.4s\tremaining: 20.9s\n",
            "133:\tlearn: 29340.8121828\ttotal: 41.7s\tremaining: 20.6s\n",
            "134:\tlearn: 29302.8437511\ttotal: 42s\tremaining: 20.2s\n",
            "135:\tlearn: 29271.4138200\ttotal: 42.3s\tremaining: 19.9s\n",
            "136:\tlearn: 29249.6929706\ttotal: 42.6s\tremaining: 19.6s\n",
            "137:\tlearn: 29231.1036881\ttotal: 42.9s\tremaining: 19.3s\n",
            "138:\tlearn: 29197.1776673\ttotal: 43.2s\tremaining: 19s\n",
            "139:\tlearn: 29176.8545248\ttotal: 43.6s\tremaining: 18.7s\n",
            "140:\tlearn: 29140.7959995\ttotal: 43.8s\tremaining: 18.3s\n",
            "141:\tlearn: 29125.6775437\ttotal: 44.2s\tremaining: 18s\n",
            "142:\tlearn: 29098.4614838\ttotal: 44.5s\tremaining: 17.7s\n",
            "143:\tlearn: 29070.6459581\ttotal: 44.9s\tremaining: 17.5s\n",
            "144:\tlearn: 29059.4338595\ttotal: 45.2s\tremaining: 17.1s\n",
            "145:\tlearn: 29037.7249791\ttotal: 45.4s\tremaining: 16.8s\n",
            "146:\tlearn: 29021.1616052\ttotal: 45.7s\tremaining: 16.5s\n",
            "147:\tlearn: 29009.6325219\ttotal: 46s\tremaining: 16.1s\n",
            "148:\tlearn: 28983.8955853\ttotal: 46.2s\tremaining: 15.8s\n",
            "149:\tlearn: 28946.3686585\ttotal: 46.6s\tremaining: 15.5s\n",
            "150:\tlearn: 28917.1447232\ttotal: 46.9s\tremaining: 15.2s\n",
            "151:\tlearn: 28871.4952453\ttotal: 47.2s\tremaining: 14.9s\n",
            "152:\tlearn: 28848.6430960\ttotal: 47.5s\tremaining: 14.6s\n",
            "153:\tlearn: 28824.7505003\ttotal: 47.8s\tremaining: 14.3s\n",
            "154:\tlearn: 28804.4878130\ttotal: 48.1s\tremaining: 14s\n",
            "155:\tlearn: 28778.6508516\ttotal: 48.4s\tremaining: 13.7s\n",
            "156:\tlearn: 28760.9843192\ttotal: 48.7s\tremaining: 13.3s\n",
            "157:\tlearn: 28751.7842070\ttotal: 49s\tremaining: 13s\n",
            "158:\tlearn: 28721.4853110\ttotal: 49.3s\tremaining: 12.7s\n",
            "159:\tlearn: 28703.4626816\ttotal: 49.6s\tremaining: 12.4s\n",
            "160:\tlearn: 28689.8020206\ttotal: 50s\tremaining: 12.1s\n",
            "161:\tlearn: 28661.7963173\ttotal: 50.3s\tremaining: 11.8s\n",
            "162:\tlearn: 28640.5483656\ttotal: 50.7s\tremaining: 11.5s\n",
            "163:\tlearn: 28622.7741014\ttotal: 51s\tremaining: 11.2s\n",
            "164:\tlearn: 28590.1075513\ttotal: 51.4s\tremaining: 10.9s\n",
            "165:\tlearn: 28574.9774692\ttotal: 51.8s\tremaining: 10.6s\n",
            "166:\tlearn: 28562.1279876\ttotal: 52.1s\tremaining: 10.3s\n",
            "167:\tlearn: 28547.7439122\ttotal: 52.4s\tremaining: 9.97s\n",
            "168:\tlearn: 28540.4286881\ttotal: 52.6s\tremaining: 9.66s\n",
            "169:\tlearn: 28527.8241841\ttotal: 53s\tremaining: 9.35s\n",
            "170:\tlearn: 28511.3365119\ttotal: 53.3s\tremaining: 9.03s\n",
            "171:\tlearn: 28499.5591522\ttotal: 53.6s\tremaining: 8.72s\n",
            "172:\tlearn: 28479.2683847\ttotal: 53.9s\tremaining: 8.4s\n",
            "173:\tlearn: 28458.6834469\ttotal: 54.1s\tremaining: 8.08s\n",
            "174:\tlearn: 28449.8495822\ttotal: 54.4s\tremaining: 7.77s\n",
            "175:\tlearn: 28429.5511069\ttotal: 54.7s\tremaining: 7.46s\n",
            "176:\tlearn: 28403.8959683\ttotal: 55.1s\tremaining: 7.15s\n",
            "177:\tlearn: 28385.3649589\ttotal: 55.3s\tremaining: 6.84s\n",
            "178:\tlearn: 28378.0123122\ttotal: 55.7s\tremaining: 6.53s\n",
            "179:\tlearn: 28357.3803384\ttotal: 56s\tremaining: 6.22s\n",
            "180:\tlearn: 28343.5300571\ttotal: 56.2s\tremaining: 5.9s\n",
            "181:\tlearn: 28317.5154447\ttotal: 56.6s\tremaining: 5.59s\n",
            "182:\tlearn: 28296.5505695\ttotal: 56.8s\tremaining: 5.28s\n",
            "183:\tlearn: 28271.4800513\ttotal: 57.1s\tremaining: 4.96s\n",
            "184:\tlearn: 28263.9459245\ttotal: 57.4s\tremaining: 4.65s\n",
            "185:\tlearn: 28250.2438025\ttotal: 57.7s\tremaining: 4.34s\n",
            "186:\tlearn: 28230.2608301\ttotal: 58s\tremaining: 4.03s\n",
            "187:\tlearn: 28218.7340967\ttotal: 58.3s\tremaining: 3.72s\n",
            "188:\tlearn: 28207.1150364\ttotal: 58.5s\tremaining: 3.41s\n",
            "189:\tlearn: 28193.7202829\ttotal: 58.9s\tremaining: 3.1s\n",
            "190:\tlearn: 28178.4723132\ttotal: 59.2s\tremaining: 2.79s\n",
            "191:\tlearn: 28165.5114326\ttotal: 59.5s\tremaining: 2.48s\n",
            "192:\tlearn: 28146.4080891\ttotal: 59.8s\tremaining: 2.17s\n",
            "193:\tlearn: 28136.3976111\ttotal: 1m\tremaining: 1.86s\n",
            "194:\tlearn: 28125.4885782\ttotal: 1m\tremaining: 1.55s\n",
            "195:\tlearn: 28116.3413086\ttotal: 1m\tremaining: 1.24s\n",
            "196:\tlearn: 28108.9521806\ttotal: 1m 1s\tremaining: 929ms\n",
            "197:\tlearn: 28089.8404733\ttotal: 1m 1s\tremaining: 620ms\n",
            "198:\tlearn: 28068.8104392\ttotal: 1m 1s\tremaining: 310ms\n",
            "199:\tlearn: 28062.6513271\ttotal: 1m 2s\tremaining: 0us\n"
          ],
          "name": "stdout"
        },
        {
          "output_type": "execute_result",
          "data": {
            "text/plain": [
              "<catboost.core.CatBoostRegressor at 0x7f7508ec1350>"
            ]
          },
          "metadata": {
            "tags": []
          },
          "execution_count": 41
        }
      ]
    },
    {
      "cell_type": "code",
      "metadata": {
        "id": "Z1CSZJvR7Q4Y"
      },
      "source": [
        "predict =model.predict(X_test)"
      ],
      "execution_count": null,
      "outputs": []
    },
    {
      "cell_type": "code",
      "metadata": {
        "colab": {
          "base_uri": "https://localhost:8080/"
        },
        "id": "BNLxN8nDJ4Kl",
        "outputId": "758e5e49-e504-46e0-f1b0-b30cfba9a424"
      },
      "source": [
        "df['resale_price'].describe()"
      ],
      "execution_count": null,
      "outputs": [
        {
          "output_type": "execute_result",
          "data": {
            "text/plain": [
              "count    8.401280e+05\n",
              "mean     2.966238e+05\n",
              "std      1.508606e+05\n",
              "min      5.000000e+03\n",
              "25%      1.830000e+05\n",
              "50%      2.780000e+05\n",
              "75%      3.870000e+05\n",
              "max      1.258000e+06\n",
              "Name: resale_price, dtype: float64"
            ]
          },
          "metadata": {
            "tags": []
          },
          "execution_count": 43
        }
      ]
    },
    {
      "cell_type": "code",
      "metadata": {
        "id": "8pa-ylDXIYFc"
      },
      "source": [
        "from sklearn.metrics import mean_squared_error"
      ],
      "execution_count": null,
      "outputs": []
    },
    {
      "cell_type": "code",
      "metadata": {
        "colab": {
          "base_uri": "https://localhost:8080/"
        },
        "id": "xl6WjgmEIdgA",
        "outputId": "44f8e020-384c-489c-c5e0-1586e2fa7e95"
      },
      "source": [
        "mean_squared_error(y_test, predict, squared=False)"
      ],
      "execution_count": null,
      "outputs": [
        {
          "output_type": "execute_result",
          "data": {
            "text/plain": [
              "28156.313420971495"
            ]
          },
          "metadata": {
            "tags": []
          },
          "execution_count": 46
        }
      ]
    },
    {
      "cell_type": "code",
      "metadata": {
        "id": "Hd7om3RmOR0X"
      },
      "source": [
        "y_true = y_test.to_numpy().squeeze()\n",
        "relative_error = abs(y_true-predict)/y_true"
      ],
      "execution_count": null,
      "outputs": []
    },
    {
      "cell_type": "code",
      "metadata": {
        "colab": {
          "base_uri": "https://localhost:8080/"
        },
        "id": "1YijuTSdOo8S",
        "outputId": "be3833b8-0649-45fd-d5b9-07a58d54c9db"
      },
      "source": [
        "#MAPE\n",
        "np.mean(relative_error)"
      ],
      "execution_count": null,
      "outputs": [
        {
          "output_type": "execute_result",
          "data": {
            "text/plain": [
              "0.07780793120924125"
            ]
          },
          "metadata": {
            "tags": []
          },
          "execution_count": 48
        }
      ]
    },
    {
      "cell_type": "code",
      "metadata": {
        "colab": {
          "base_uri": "https://localhost:8080/"
        },
        "id": "OX7tDoqrO9Vw",
        "outputId": "99a9f45e-44fa-438e-cc50-3819b0177636"
      },
      "source": [
        "np.median(relative_error)"
      ],
      "execution_count": null,
      "outputs": [
        {
          "output_type": "execute_result",
          "data": {
            "text/plain": [
              "0.05691009985678197"
            ]
          },
          "metadata": {
            "tags": []
          },
          "execution_count": 49
        }
      ]
    },
    {
      "cell_type": "code",
      "metadata": {
        "id": "80NC549IO-cp"
      },
      "source": [
        "# save_model(model,\"/content/drive/My Drive/model\")\n",
        "model.save_model(\"/content/drive/My Drive/model_cat\")"
      ],
      "execution_count": null,
      "outputs": []
    },
    {
      "cell_type": "code",
      "metadata": {
        "colab": {
          "base_uri": "https://localhost:8080/"
        },
        "id": "Cgkj258nnfwv",
        "outputId": "822a67ff-e94f-4f41-e810-74c473d8c2b0"
      },
      "source": [
        "from catboost import CatBoostRegressor\n",
        "model_from_file = CatBoostRegressor()      # parameters not required.\n",
        "model_from_file.load_model(\"/content/drive/My Drive/model_cat\")"
      ],
      "execution_count": null,
      "outputs": [
        {
          "output_type": "execute_result",
          "data": {
            "text/plain": [
              "<catboost.core.CatBoostRegressor at 0x7f7505f74490>"
            ]
          },
          "metadata": {
            "tags": []
          },
          "execution_count": 86
        }
      ]
    },
    {
      "cell_type": "code",
      "metadata": {
        "colab": {
          "base_uri": "https://localhost:8080/"
        },
        "id": "43Kg-XS6okvJ",
        "outputId": "8116dc60-84f9-4db4-87b8-0e870beb7b2c"
      },
      "source": [
        "data = [[\"JURONG WEST\", 100, 1999, 10, 3, 1996],[\"JURONG WEST\", 100, 1999, 10, 3, 1996]]\n",
        "predict_df = pd.DataFrame(data, columns = ['town','floor_area_sqm','lease_commence_date','storey','type','year'])  \n",
        "\n",
        "\n",
        "\n",
        "\n",
        "model.predict(predict_df)\n"
      ],
      "execution_count": null,
      "outputs": [
        {
          "output_type": "execute_result",
          "data": {
            "text/plain": [
              "array([235901.11983011, 235901.11983011])"
            ]
          },
          "metadata": {
            "tags": []
          },
          "execution_count": 87
        }
      ]
    },
    {
      "cell_type": "code",
      "metadata": {
        "colab": {
          "base_uri": "https://localhost:8080/"
        },
        "id": "bN1kJuDZ2PIe",
        "outputId": "021de6b1-eb1d-4de7-d3b3-8337ad0e0bc4"
      },
      "source": [
        "model_from_file.predict(predict_df)"
      ],
      "execution_count": null,
      "outputs": [
        {
          "output_type": "execute_result",
          "data": {
            "text/plain": [
              "array([235901.11983011, 235901.11983011])"
            ]
          },
          "metadata": {
            "tags": []
          },
          "execution_count": 88
        }
      ]
    },
    {
      "cell_type": "code",
      "metadata": {
        "id": "e3CkTlKKAV5Q"
      },
      "source": [
        ""
      ],
      "execution_count": null,
      "outputs": []
    }
  ]
}